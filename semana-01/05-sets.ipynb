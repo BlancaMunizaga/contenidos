{
 "cells": [
  {
   "cell_type": "markdown",
   "metadata": {},
   "source": [
    "<p>\n",
    "<font size='5' face='Georgia, Arial'>IIC-2233 Apunte Programación Avanzada</font><br>\n",
    "<font size='1'>&copy; 2015 Karim Pichara - Christian Pieringer. Todos los derechos reservados. Modificado el 2018-1 por Equipo docente IIC2233</font>\n",
    "</p>"
   ]
  },
  {
   "cell_type": "markdown",
   "metadata": {},
   "source": [
    "## Sets\n",
    "\n",
    "Los _sets_ (conjunto) son contenedores **mutables**, **no _hasheables_**, y **no ordenados** que no repiten elementos. Tienen un comportamiento similar a los [conjuntos matemáticos](https://es.wikipedia.org/wiki/Conjunto). Los _sets_ pueden tener cualquier objeto _hasheable_, los mismos que pueden ser _key_ en un diccionario. La razón de esto último es que los _sets_ también utilizan _tablas de hash_ para almacenar los datos.\n",
    "\n",
    "Los _sets_ están diseñados para revisar si un elemento se encuentra en él o no en forma eficiente. **Revisar si un elemento está o no está** toma tiempo constante, es decir, el tiempo que se demora esta operación no depende de cuán grande es el conjunto.\n",
    "\n",
    "En Python, los _sets_ son implementados por la clase `set`. Se puede crear un _set_ vacío con `set()`:"
   ]
  },
  {
   "cell_type": "code",
   "execution_count": 1,
   "metadata": {},
   "outputs": [
    {
     "name": "stdout",
     "output_type": "stream",
     "text": [
      "set()\n"
     ]
    }
   ],
   "source": [
    "conjunto_vacio = set()\n",
    "print(conjunto_vacio)"
   ]
  },
  {
   "cell_type": "markdown",
   "metadata": {},
   "source": [
    "Es posible crear un conjunto a partir de una lista de elementos. Notemos que el _set_ creado **no tendrá elementos repetidos**, y no necesariamente respetará el orden original de los elementos."
   ]
  },
  {
   "cell_type": "code",
   "execution_count": 2,
   "metadata": {},
   "outputs": [
    {
     "name": "stdout",
     "output_type": "stream",
     "text": [
      "{'Dream Theater', 'Olivia Newton-John', 'Daddy Yankee', 'Sting', 'Mon Laferte'}\n"
     ]
    }
   ],
   "source": [
    "lista_artistas = [\"Olivia Newton-John\", \"Daddy Yankee\", \"Sting\", \n",
    "                  \"Dream Theater\", \"Mon Laferte\", \"Sting\"]\n",
    "conjunto_artistas = set(lista_artistas)\n",
    "print(conjunto_artistas)"
   ]
  },
  {
   "cell_type": "markdown",
   "metadata": {},
   "source": [
    "Podemos también construir un _set_ directamente usando llaves `{`, `}`, donde los elementos están separados por coma:"
   ]
  },
  {
   "cell_type": "code",
   "execution_count": 3,
   "metadata": {},
   "outputs": [
    {
     "name": "stdout",
     "output_type": "stream",
     "text": [
      "{'Dream Theater', 'Olivia Newton-John', 'Daddy Yankee', 'Sting', 'Mon Laferte'}\n"
     ]
    }
   ],
   "source": [
    "conjunto_artistas = {\"Olivia Newton-John\", \"Daddy Yankee\", \"Sting\", \n",
    "                     \"Dream Theater\", \"Mon Laferte\"}\n",
    "print(conjunto_artistas)"
   ]
  },
  {
   "cell_type": "markdown",
   "metadata": {},
   "source": [
    "La notación con llaves no puede ser utilizada para crear un _set_ vacío, ya que esa notación se usa para crear un diccionario."
   ]
  },
  {
   "cell_type": "code",
   "execution_count": 4,
   "metadata": {},
   "outputs": [
    {
     "name": "stdout",
     "output_type": "stream",
     "text": [
      "<class 'dict'>\n"
     ]
    }
   ],
   "source": [
    "intento_de_conjunto_vacio = {}\n",
    "print(type(intento_de_conjunto_vacio))"
   ]
  },
  {
   "cell_type": "markdown",
   "metadata": {},
   "source": [
    "A diferencia de otros lenguajes como Java o C#, los tipos de los elementos de un _set_ pueden ser heterogéneos:"
   ]
  },
  {
   "cell_type": "code",
   "execution_count": 5,
   "metadata": {},
   "outputs": [
    {
     "name": "stdout",
     "output_type": "stream",
     "text": [
      "{'seis', 3, 5, 'cuatro', 'cero'}\n"
     ]
    }
   ],
   "source": [
    "conjunto_heterogeneo = {\"cero\", 3, \"cero\", 3, \"cuatro\", 5, \"seis\"}\n",
    "print(conjunto_heterogeneo)"
   ]
  },
  {
   "cell_type": "markdown",
   "metadata": {},
   "source": [
    "### Operaciones sobre _sets_\n",
    "\n",
    "En Python, los _sets_ son capaces de realizar varias operaciones. Algunas son comunes con otros tipos de colecciones, y otras son análogas a las que se hacen con conjuntos matemáticos.\n",
    "\n",
    "Es importante mencionar que los _sets_ **no soportan ningún tipo de acceso indexado**, pues no tienen orden. Por ejemplo, el siguiente código arroja un error:"
   ]
  },
  {
   "cell_type": "code",
   "execution_count": 6,
   "metadata": {},
   "outputs": [
    {
     "ename": "TypeError",
     "evalue": "'set' object does not support indexing",
     "output_type": "error",
     "traceback": [
      "\u001b[0;31m---------------------------------------------------------------------------\u001b[0m",
      "\u001b[0;31mTypeError\u001b[0m                                 Traceback (most recent call last)",
      "\u001b[0;32m<ipython-input-6-06c7b2157c61>\u001b[0m in \u001b[0;36m<module>\u001b[0;34m()\u001b[0m\n\u001b[1;32m      1\u001b[0m conjunto_artistas = {\"Olivia Newton-John\", \"Daddy Yankee\", \"Sting\", \n\u001b[1;32m      2\u001b[0m                      \"Dream Theater\", \"Mon Laferte\"}\n\u001b[0;32m----> 3\u001b[0;31m \u001b[0mconjunto_artistas\u001b[0m\u001b[0;34m[\u001b[0m\u001b[0;36m0\u001b[0m\u001b[0;34m]\u001b[0m\u001b[0;34m\u001b[0m\u001b[0m\n\u001b[0m",
      "\u001b[0;31mTypeError\u001b[0m: 'set' object does not support indexing"
     ]
    }
   ],
   "source": [
    "conjunto_artistas = {\"Olivia Newton-John\", \"Daddy Yankee\", \"Sting\", \n",
    "                     \"Dream Theater\", \"Mon Laferte\"}\n",
    "conjunto_artistas[0]"
   ]
  },
  {
   "cell_type": "markdown",
   "metadata": {},
   "source": [
    "Ahora revisaremos las operaciones más importantes que soportan los _sets_:"
   ]
  },
  {
   "cell_type": "markdown",
   "metadata": {},
   "source": [
    "#### Revisar la cantidad de elementos\n",
    "\n",
    "Tal y como con las otras estructuras, esto se hace con la función `len`"
   ]
  },
  {
   "cell_type": "code",
   "execution_count": 7,
   "metadata": {},
   "outputs": [
    {
     "data": {
      "text/plain": [
       "5"
      ]
     },
     "execution_count": 7,
     "metadata": {},
     "output_type": "execute_result"
    }
   ],
   "source": [
    "len(conjunto_artistas)"
   ]
  },
  {
   "cell_type": "markdown",
   "metadata": {},
   "source": [
    "#### _Add_\n",
    "\n",
    "A un _set_ se le pueden añadir elementos con el método `add`."
   ]
  },
  {
   "cell_type": "code",
   "execution_count": 8,
   "metadata": {},
   "outputs": [
    {
     "name": "stdout",
     "output_type": "stream",
     "text": [
      "{'Dream Theater', 'Olivia Newton-John', 'Taylor Swift', 'Daddy Yankee', 'Sting', 'Mon Laferte'}\n"
     ]
    }
   ],
   "source": [
    "conjunto_artistas.add(\"Taylor Swift\")\n",
    "print(conjunto_artistas)"
   ]
  },
  {
   "cell_type": "markdown",
   "metadata": {},
   "source": [
    "Si se intenta agregar un elemento que ya estaba, nada ocurre:"
   ]
  },
  {
   "cell_type": "code",
   "execution_count": 9,
   "metadata": {},
   "outputs": [
    {
     "name": "stdout",
     "output_type": "stream",
     "text": [
      "{'Dream Theater', 'Olivia Newton-John', 'Taylor Swift', 'Daddy Yankee', 'Sting', 'Mon Laferte'}\n"
     ]
    }
   ],
   "source": [
    "conjunto_artistas.add(\"Sting\")\n",
    "print(conjunto_artistas)"
   ]
  },
  {
   "cell_type": "markdown",
   "metadata": {},
   "source": [
    "#### Remove\n",
    "\n",
    "Se puede sacar un elemento del _set_ con el método `remove`."
   ]
  },
  {
   "cell_type": "code",
   "execution_count": 10,
   "metadata": {},
   "outputs": [
    {
     "name": "stdout",
     "output_type": "stream",
     "text": [
      "{'Dream Theater', 'Olivia Newton-John', 'Taylor Swift', 'Sting', 'Mon Laferte'}\n"
     ]
    }
   ],
   "source": [
    "conjunto_artistas.remove(\"Daddy Yankee\")\n",
    "print(conjunto_artistas)"
   ]
  },
  {
   "cell_type": "markdown",
   "metadata": {},
   "source": [
    "Esta operación resulta en un error si se intenta eliminar algo que no estaba previamente en el _set_:"
   ]
  },
  {
   "cell_type": "code",
   "execution_count": 11,
   "metadata": {},
   "outputs": [
    {
     "ename": "KeyError",
     "evalue": "'The Beatles'",
     "output_type": "error",
     "traceback": [
      "\u001b[0;31m---------------------------------------------------------------------------\u001b[0m",
      "\u001b[0;31mKeyError\u001b[0m                                  Traceback (most recent call last)",
      "\u001b[0;32m<ipython-input-11-d5bc0e63f5ae>\u001b[0m in \u001b[0;36m<module>\u001b[0;34m()\u001b[0m\n\u001b[0;32m----> 1\u001b[0;31m \u001b[0mconjunto_artistas\u001b[0m\u001b[0;34m.\u001b[0m\u001b[0mremove\u001b[0m\u001b[0;34m(\u001b[0m\u001b[0;34m\"The Beatles\"\u001b[0m\u001b[0;34m)\u001b[0m\u001b[0;34m\u001b[0m\u001b[0m\n\u001b[0m",
      "\u001b[0;31mKeyError\u001b[0m: 'The Beatles'"
     ]
    }
   ],
   "source": [
    "conjunto_artistas.remove(\"The Beatles\")"
   ]
  },
  {
   "cell_type": "markdown",
   "metadata": {},
   "source": [
    "#### Discard\n",
    "\n",
    "Es una operación similar a _remove_, pero que no lanza un error en caso de que el elemento no haya estado en el conjunto:"
   ]
  },
  {
   "cell_type": "code",
   "execution_count": 12,
   "metadata": {},
   "outputs": [
    {
     "name": "stdout",
     "output_type": "stream",
     "text": [
      "{'Olivia Newton-John', 'Taylor Swift', 'Sting', 'Mon Laferte'}\n"
     ]
    }
   ],
   "source": [
    "conjunto_artistas.discard(\"Dream Theater\")\n",
    "print(conjunto_artistas)"
   ]
  },
  {
   "cell_type": "code",
   "execution_count": 13,
   "metadata": {},
   "outputs": [
    {
     "name": "stdout",
     "output_type": "stream",
     "text": [
      "{'Olivia Newton-John', 'Taylor Swift', 'Sting', 'Mon Laferte'}\n"
     ]
    }
   ],
   "source": [
    "conjunto_artistas.discard(\"The Beatles\")\n",
    "print(conjunto_artistas)"
   ]
  },
  {
   "cell_type": "markdown",
   "metadata": {},
   "source": [
    "#### Iterar con `for`\n",
    "\n",
    "Se puede iterar por los elementos de un conjunto con `for`. Debemos recordar, sin embargo, que el recorrido no se hará en ningún orden en particular, puesto que los _sets_ no son estructuras ordenadas. Sí está garantizado que cada elemento será recorrido _exactamente una vez_."
   ]
  },
  {
   "cell_type": "code",
   "execution_count": 14,
   "metadata": {},
   "outputs": [
    {
     "name": "stdout",
     "output_type": "stream",
     "text": [
      "Por favor, saluden a Olivia Newton-John!\n",
      "Por favor, saluden a Taylor Swift!\n",
      "Por favor, saluden a Sting!\n",
      "Por favor, saluden a Mon Laferte!\n"
     ]
    }
   ],
   "source": [
    "for artista in conjunto_artistas:\n",
    "    print(\"Por favor, saluden a {}!\".format(artista))"
   ]
  },
  {
   "cell_type": "markdown",
   "metadata": {},
   "source": [
    "#### Verificar si un elemento pertenece al _set_\n",
    "\n",
    "Podemos verificar si un elemento está en el _set_ con la sentencia `in`."
   ]
  },
  {
   "cell_type": "code",
   "execution_count": 15,
   "metadata": {},
   "outputs": [
    {
     "data": {
      "text/plain": [
       "False"
      ]
     },
     "execution_count": 15,
     "metadata": {},
     "output_type": "execute_result"
    }
   ],
   "source": [
    "\"Natalia Lafourcade\" in conjunto_artistas"
   ]
  },
  {
   "cell_type": "code",
   "execution_count": 16,
   "metadata": {},
   "outputs": [
    {
     "data": {
      "text/plain": [
       "True"
      ]
     },
     "execution_count": 16,
     "metadata": {},
     "output_type": "execute_result"
    }
   ],
   "source": [
    "\"Sting\" in conjunto_artistas"
   ]
  },
  {
   "cell_type": "markdown",
   "metadata": {},
   "source": [
    "En los _sets_, esta operación es muy eficiente y toma un tiempo que _no depende del tamaño del conjunto_. \n",
    "\n",
    "Esto es muy distinto del caso de las listas. Para verificar si un elemento está o no en una lista, internamente se debe recorrer toda la lista hasta encontrarlo, o bien llegar al final para darse cuenta que no estaba. Esto significa que el _tiempo máximo de búsqueda crece_ a medida que el tamaño de la lista aumenta.\n",
    "\n",
    "Para comprobar estas diferencias en tiempo, vamos a crear una lista y un _set_, cada uno con 10000000 de elementos:"
   ]
  },
  {
   "cell_type": "code",
   "execution_count": 17,
   "metadata": {},
   "outputs": [
    {
     "name": "stdout",
     "output_type": "stream",
     "text": [
      "Set.  La búsqueda de 5000000 en el set demoró   0.000046 segundos\n",
      "List. La búsqueda de 5000000 en la lista demoró 0.075322 segundos\n",
      "\n",
      "La búsqueda en list fue 1636.91 veces el tiempo de set.\n"
     ]
    }
   ],
   "source": [
    "from time import time\n",
    "\n",
    "ELEMENTOS = 10 ** 7\n",
    "ELEMENTO_A_BUSCAR = ELEMENTOS // 2\n",
    "\n",
    "lista_gigante = list(range(ELEMENTOS))\n",
    "set_gigante = set(range(ELEMENTOS))\n",
    "\n",
    "start_time = time()\n",
    "ELEMENTO_A_BUSCAR in set_gigante\n",
    "finish_time = time()\n",
    "set_time = finish_time - start_time\n",
    "print(\"Set.  La búsqueda de {} en el set demoró   \"\"\"\n",
    "      \"\"\"{:.6f} segundos\"\"\".format(ELEMENTO_A_BUSCAR, set_time))\n",
    "\n",
    "start_time = time()\n",
    "ELEMENTO_A_BUSCAR in lista_gigante\n",
    "finish_time = time()\n",
    "list_time = finish_time - start_time\n",
    "print(\"\"\"List. La búsqueda de {} en la lista demoró \"\"\"\n",
    "      \"\"\"{:.6f} segundos\"\"\".format(ELEMENTO_A_BUSCAR, list_time))\n",
    "print()\n",
    "print(\"La búsqueda en list fue {:.2f} veces el tiempo de set.\".format(list_time/set_time))"
   ]
  },
  {
   "cell_type": "markdown",
   "metadata": {},
   "source": [
    "#### Unión de conjuntos\n",
    "\n",
    "![](https://upload.wikimedia.org/wikipedia/commons/3/32/SetUnion.svg)\n",
    "\n",
    "Sirve para obtener un nuevo conjunto que tenga todos los elementos de los conjuntos que se unen. Esta operación no altera ninguno de los _sets_ originales. Se utiliza el operador `|`."
   ]
  },
  {
   "cell_type": "code",
   "execution_count": 18,
   "metadata": {},
   "outputs": [
    {
     "name": "stdout",
     "output_type": "stream",
     "text": [
      "{0, 1, 2, 3, 4, 5}\n"
     ]
    }
   ],
   "source": [
    "set_a = {0, 1, 2, 3}\n",
    "set_b = {5, 4, 3, 2}\n",
    "set_union = set_a | set_b\n",
    "print(set_union)"
   ]
  },
  {
   "cell_type": "markdown",
   "metadata": {},
   "source": [
    "También se puede ocupar el método `union`. Esta operación no altera ninguno de los _sets_ originales."
   ]
  },
  {
   "cell_type": "code",
   "execution_count": 19,
   "metadata": {},
   "outputs": [
    {
     "name": "stdout",
     "output_type": "stream",
     "text": [
      "{0, 1, 2, 3, 4, 5}\n"
     ]
    }
   ],
   "source": [
    "set_a = {0, 1, 2, 3}\n",
    "set_b = {5, 4, 3, 2}\n",
    "set_union = set_a.union(set_b)\n",
    "print(set_union)"
   ]
  },
  {
   "cell_type": "markdown",
   "metadata": {},
   "source": [
    "#### Intersección de conjuntos\n",
    "\n",
    "![](https://upload.wikimedia.org/wikipedia/commons/c/cb/SetIntersection.svg)\n",
    "\n",
    "Sirve para obtener un nuevo conjunto que tenga los elementos que están en **todos** los conjuntos que se intersectan. Esta operación no altera ninguno de los _sets_ originales. Se utiliza el operador `&`."
   ]
  },
  {
   "cell_type": "code",
   "execution_count": 20,
   "metadata": {},
   "outputs": [
    {
     "name": "stdout",
     "output_type": "stream",
     "text": [
      "{2, 3}\n"
     ]
    }
   ],
   "source": [
    "set_a = {0, 1, 2, 3}\n",
    "set_b = {4, 3, 2, 5}\n",
    "set_intersection = set_a & set_b\n",
    "print(set_intersection)"
   ]
  },
  {
   "cell_type": "markdown",
   "metadata": {},
   "source": [
    "También se puede ocupar el método `intersection`. Esta operación no altera ninguno de los _sets_ originales."
   ]
  },
  {
   "cell_type": "code",
   "execution_count": 21,
   "metadata": {},
   "outputs": [
    {
     "name": "stdout",
     "output_type": "stream",
     "text": [
      "{2, 3}\n"
     ]
    }
   ],
   "source": [
    "set_a = {0, 1, 2, 3}\n",
    "set_b = {4, 3, 2, 5}\n",
    "set_intersection = set_a.intersection(set_b)\n",
    "print(set_intersection)"
   ]
  },
  {
   "cell_type": "markdown",
   "metadata": {},
   "source": [
    "#### Diferencia de conjuntos\n",
    "\n",
    "![](https://upload.wikimedia.org/wikipedia/commons/e/ec/SetDifferenceA.svg)\n",
    "\n",
    "Sirve para obtener un nuevo conjunto que tenga los elementos que están en un conjunto, pero que no estén en otro. Esta operación no altera ninguno de los _sets_ originales. Se utiliza el operador `-`. Notar que el resultado de esta operación depende del orden de los factores."
   ]
  },
  {
   "cell_type": "code",
   "execution_count": 22,
   "metadata": {
    "scrolled": true
   },
   "outputs": [
    {
     "name": "stdout",
     "output_type": "stream",
     "text": [
      "{0, 1}\n",
      "{4, 5}\n"
     ]
    }
   ],
   "source": [
    "set_a = {0, 1, 2, 3}\n",
    "set_b = {2, 3, 4, 5}\n",
    "set_difference_a_b = set_a - set_b\n",
    "set_difference_b_a = set_b - set_a\n",
    "print(set_difference_a_b)\n",
    "print(set_difference_b_a)"
   ]
  },
  {
   "cell_type": "markdown",
   "metadata": {},
   "source": [
    "También se puede ocupar el método `difference`. Esta operación no altera ninguno de los _sets_ originales."
   ]
  },
  {
   "cell_type": "code",
   "execution_count": 23,
   "metadata": {},
   "outputs": [
    {
     "name": "stdout",
     "output_type": "stream",
     "text": [
      "{0, 1}\n",
      "{4, 5}\n"
     ]
    }
   ],
   "source": [
    "set_a = {0, 1, 2, 3}\n",
    "set_b = {2, 3, 4, 5}\n",
    "set_difference_a_b = set_a.difference(set_b)\n",
    "set_difference_b_a = set_b.difference(set_a)\n",
    "print(set_difference_a_b)\n",
    "print(set_difference_b_a)"
   ]
  },
  {
   "cell_type": "markdown",
   "metadata": {},
   "source": [
    "#### Diferencia simétrica de conjuntos\n",
    "\n",
    "![](https://upload.wikimedia.org/wikipedia/commons/f/f2/SetSymmetricDifference.svg)\n",
    "\n",
    "Sirve para obtener un nuevo conjunto de objetos que están en un conjunto o en el otro pero no en ambos. Esta operación no altera ninguno de los _sets_ originales. Se ocupa el operador `^`. "
   ]
  },
  {
   "cell_type": "code",
   "execution_count": 24,
   "metadata": {},
   "outputs": [
    {
     "name": "stdout",
     "output_type": "stream",
     "text": [
      "{0, 1, 4, 5}\n"
     ]
    }
   ],
   "source": [
    "set_a = {0, 1, 2, 3}\n",
    "set_b = {2, 3, 4, 5}\n",
    "set_sim_difference = set_a ^ set_b\n",
    "print(set_sim_difference)"
   ]
  },
  {
   "cell_type": "markdown",
   "metadata": {},
   "source": [
    "También se puede ocupar el método `symmetric_difference`. Esta operación no altera ninguno de los _sets_ originales."
   ]
  },
  {
   "cell_type": "code",
   "execution_count": 25,
   "metadata": {},
   "outputs": [
    {
     "name": "stdout",
     "output_type": "stream",
     "text": [
      "{0, 1, 4, 5}\n"
     ]
    }
   ],
   "source": [
    "set_a = {0, 1, 2, 3}\n",
    "set_b = {2, 3, 4, 5}\n",
    "set_sim_difference = set_a.symmetric_difference(set_b)\n",
    "print(set_sim_difference)"
   ]
  },
  {
   "cell_type": "markdown",
   "metadata": {},
   "source": [
    "#### Comparar conjuntos\n",
    "\n",
    "Podemos saber rápidamente si un conjunto es subconjunto, superconjunto, o son iguales a otro. \n",
    "\n",
    "Un conjunto `A` es _subconjunto_ de otro `B` si todos los elementos que están en `A` están también en `B`. Esto incluye el caso en que sean iguales. Si no queremos incluir el caso de la igualdad, se habla de _subconjunto propio_.\n",
    "\n",
    "Al revés, un `A` es _superconjunto_ de otro `B` si todos los elementos que están en `B` también están en `A`. Esto también incluye el caso en que sean iguales. Si no queremos incluir el caso de la igualdad, se habla de _superconjunto propio_."
   ]
  },
  {
   "cell_type": "code",
   "execution_count": 26,
   "metadata": {},
   "outputs": [
    {
     "name": "stdout",
     "output_type": "stream",
     "text": [
      "artistas_lollapalooza es a artistas_favoritos:\n",
      "Superset: True\n",
      "Subset: False\n",
      "Iguales: False\n",
      "----------------------------------------\n",
      "artistas_favoritos es a artistas_lollapalooza:\n",
      "Superset: False\n",
      "Subset: True\n",
      "Iguales: False\n"
     ]
    }
   ],
   "source": [
    "artistas_lollapalooza = {\"Mac Demarco\", \"The Killers\", \"Shakira\", \"Camila Cabello\"}\n",
    "artistas_favoritos = {\"Mac Demarco\", \"Shakira\"}\n",
    "\n",
    "\n",
    "print(\"artistas_lollapalooza es a artistas_favoritos:\")\n",
    "print(\"Superset: {}\".format(artistas_lollapalooza >= artistas_favoritos))\n",
    "print(\"Subset: {}\".format(artistas_lollapalooza <= artistas_favoritos))\n",
    "print(\"Iguales: {}\".format(artistas_lollapalooza == artistas_favoritos))\n",
    "\n",
    "print(\"-\"*40)\n",
    "\n",
    "print(\"artistas_favoritos es a artistas_lollapalooza:\")\n",
    "print(\"Superset: {}\".format(artistas_favoritos >= artistas_lollapalooza))\n",
    "print(\"Subset: {}\".format(artistas_favoritos <= artistas_lollapalooza))\n",
    "print(\"Iguales: {}\".format(artistas_favoritos == artistas_lollapalooza))"
   ]
  },
  {
   "cell_type": "code",
   "execution_count": 27,
   "metadata": {},
   "outputs": [
    {
     "name": "stdout",
     "output_type": "stream",
     "text": [
      "artistas_lollapalooza es a artistas_favoritos:\n",
      "Superset: True\n",
      "Subset: False\n",
      "--------------------\n",
      "artistas_favoritos es a artistas_lollapalooza:\n",
      "Superset: False\n",
      "Subset: True\n"
     ]
    }
   ],
   "source": [
    "artistas_lollapalooza = {\"Mac Demarco\", \"The Killers\", \"Shakira\", \"Camila Cabello\"}\n",
    "artistas_favoritos = {\"Mac Demarco\", \"Shakira\"}\n",
    "\n",
    "\n",
    "print(\"artistas_lollapalooza es a artistas_favoritos:\")\n",
    "print(\"Superset: {}\".format(artistas_lollapalooza.issuperset(artistas_favoritos)))\n",
    "print(\"Subset: {}\".format(artistas_lollapalooza.issubset(artistas_favoritos)))\n",
    "\n",
    "print(\"-\"*20)\n",
    "\n",
    "print(\"artistas_favoritos es a artistas_lollapalooza:\")\n",
    "print(\"Superset: {}\".format(artistas_favoritos.issuperset(artistas_lollapalooza)))\n",
    "print(\"Subset: {}\".format(artistas_favoritos.issubset(artistas_lollapalooza)))"
   ]
  },
  {
   "cell_type": "markdown",
   "metadata": {},
   "source": [
    "### Ejemplo de eliminación de duplicados\n",
    "\n",
    "Podemos usar _sets_ para eliminar duplicados de una lista:"
   ]
  },
  {
   "cell_type": "code",
   "execution_count": 28,
   "metadata": {},
   "outputs": [],
   "source": [
    "lista = ['A', 'B', 'A', 'D', 'F', 'X', 'X', 'X', 'Z', 'Z', 'Y']\n",
    "lista_set = set(lista)"
   ]
  },
  {
   "cell_type": "markdown",
   "metadata": {},
   "source": [
    "Es posible crear una lista a partir de un _set_:"
   ]
  },
  {
   "cell_type": "code",
   "execution_count": 29,
   "metadata": {},
   "outputs": [
    {
     "name": "stdout",
     "output_type": "stream",
     "text": [
      "['B', 'A', 'Y', 'F', 'D', 'Z', 'X']\n"
     ]
    }
   ],
   "source": [
    "lista = list(lista_set)\n",
    "print(lista)"
   ]
  },
  {
   "cell_type": "markdown",
   "metadata": {},
   "source": [
    "Podemos ordenar la lista si queremos convencernos que no hay repetidos:"
   ]
  },
  {
   "cell_type": "code",
   "execution_count": 30,
   "metadata": {},
   "outputs": [
    {
     "name": "stdout",
     "output_type": "stream",
     "text": [
      "['A', 'B', 'D', 'F', 'X', 'Y', 'Z']\n"
     ]
    }
   ],
   "source": [
    "lista.sort()\n",
    "print(lista)"
   ]
  }
 ],
 "metadata": {
  "anaconda-cloud": {},
  "kernelspec": {
   "display_name": "Python 3",
   "language": "python",
   "name": "python3"
  },
  "language_info": {
   "codemirror_mode": {
    "name": "ipython",
    "version": 3
   },
   "file_extension": ".py",
   "mimetype": "text/x-python",
   "name": "python",
   "nbconvert_exporter": "python",
   "pygments_lexer": "ipython3",
   "version": "3.6.4"
  }
 },
 "nbformat": 4,
 "nbformat_minor": 1
}
