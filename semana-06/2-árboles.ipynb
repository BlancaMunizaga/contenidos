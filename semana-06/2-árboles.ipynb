{
 "cells": [
  {
   "cell_type": "markdown",
   "metadata": {},
   "source": [
    "<p>\n",
    "<font size='5' face='Georgia, Arial'>IIC-2233 Apunte Programación Avanzada</font><br>\n",
    "<font size='1'>&copy; 2015-2016 Karim Pichara - Christian Pieringer <sup>1</sup>. Todos los derechos reservados.</font>\n",
    "</p>"
   ]
  },
  {
   "cell_type": "markdown",
   "metadata": {},
   "source": [
    "# Árboles\n",
    "\n",
    "Un **árbol** corresponde a una estructura de datos _no lineal_. Un árbol es un conjunto de nodos que sigue una estructura **jerárquica**. A diferencia de las estructuras basadas en secuencias (lineales) como listas, colas y pilas, en los árboles los elementos están ordenados de acuerdo a una relación _padre-hijo_ entre los nodos.\n",
    "\n",
    "El primer nodo en el árbol recibe el nombre de **nodo raíz** (_root_). Cada nodo del árbol, salvo el nodo raíz, tiene un **_padre_** (_parent_) y cero o más nodos **_hijos_** (_children_). Los nodos provenientes de un mismo padre se denominan nodos **hermanos**, y los nodos en la línea de descendencia del nodo padre se conocen como **ancestros**. Los nodos que no poseen hijos se denominan nodos **hoja**. Por último, todos los nodos que no son hoja ni raíz se denominan **nodos interiores**.\n",
    "\n",
    "Formalmente, un árbol $T$ que ordena sus elementos bajo una relación _padre-hijo_ tiene las siguientes propiedades:\n",
    "\n",
    "- Si $T$ no está vacío, entonces tiene un único nodo _raíz_ que no tiene padres.\n",
    "- Cada nodo $c$ en $T$ distinto de la raíz, tiene un único padre $p$, y todos los nodos que tienen por padre a $p$ son hijos de $p$.\n",
    "\n",
    "En la figura a continuación, el árbol mostrado tiene como nodo raíz a _\"Reino Animal\"_. Este nodo tiene dos nodos hijos: _\"Vertebrados\"_ e _\"Invertebrados\"_. Por otro lado, el nodo _\"Gusanos\"_ es un nojo hoja que tiene como padre al nodo _\"Invertebrados\"_.\n",
    "\n",
    "![](img/trees-example.png)\n",
    "\n",
    "\n",
    "Un árbol es una estructura recursiva. Cada nodo es, a su vez, la raíz de un sub-árbol formado por él y sus hijos. En el ejemplo anterior, los nodos _\"Artópodos\"_, _\"Insectos\"_ y _\"Arácnidos\"_ también forman un árbol.\n",
    "\n",
    "\n",
    "Una **arista** corresponde a una conexión directa entre un par de nodos $(u,v)$. Cada nodo tiene una arista que lo conecta con su padre, y una arista que lo conecta con cada uno de sus hijos. Una secuencia ordenada de nodos consecutivos unidos por aristas a lo largo de un árbol $T$ forman un **camino**. En la figura anterior, los nodos _\"Peces\"_ y _\"Oseos\"_ poseen una arista entre ellos, y están en el camino _Reino Animal-Vertebrados-Peces-Oseos_.\n",
    "\n",
    "La **profundidad** (_depth_) de un nodo $u$ corresponde al número de aristas que debe recorrer para llegar a la raíz. La **altura** (_height_) del árbol corresponde al máximo de las profundidades alcanzadas por los nodos hoja. Por ejemplo en la figura anterior, la profundidad del nodo _\"Peces\"_ es 2, y la altura del árbol es 3."
   ]
  },
  {
   "cell_type": "markdown",
   "metadata": {},
   "source": [
    "## Árboles basados en nodos enlazados\n",
    "\n",
    "Definiremos la estructura `Arbol`, modelando cada nodo como un objeto con los siguientes atributos:\n",
    "\n",
    "- `id_nodo`: corresponde a un identificador para el nodo.\n",
    "- `padre`: se usa para hacer referencia al nodo padre.\n",
    "- `hijos`: es una estructura que almacena referencias a los hijos del nodo\n",
    "- `valor`: es lo almacenado en ese nodo.\n",
    "\n",
    "La estructura además tendrá dos métodos:\n",
    "\n",
    "#### `obtener_nodo(id_nodo)` \n",
    "\n",
    "Este método busca y retorna el nodo con identificador `id_nodo`.\n",
    "\n",
    "#### `agregar_nodo(id_nodo, valor, id_padre)`\n",
    "\n",
    "Esta operación permite agregar un nuevo nodo al árbol como hijo del nodo con el _id_ `id_padre`. El nuevo nodo tendrá identificador `id_nodo` y el valor `valor`."
   ]
  },
  {
   "cell_type": "code",
   "execution_count": 1,
   "metadata": {},
   "outputs": [],
   "source": [
    "# textwrap tiene varias funciones convenientes para el manejo de strings\n",
    "from textwrap import indent\n",
    "\n",
    "class Arbol:\n",
    "    \"\"\"\n",
    "    Esta clase representa un árbol\n",
    "    \n",
    "    La estructura es recursiva, de manera que cada nodo es la raíz de un sub-árbol.\n",
    "    Los nodos hijos pueden ser guardados en una estructura, como lista o diccionario.\n",
    "    En este ejemplo, los nodos hijos serán guardados en un diccionario.\n",
    "    \"\"\"\n",
    "\n",
    "    def __init__(self, id_nodo, valor=None, padre=None):\n",
    "        \"\"\"\n",
    "        Inicializa la estructura básica del árbol.\n",
    "        \n",
    "        Tiene un identificador propio, la referencia a su padre, el valor almacenado\n",
    "        y una estructura con sus hijos.\n",
    "        \"\"\"\n",
    "        self.id_nodo = id_nodo\n",
    "        self.padre = padre\n",
    "        self.valor = valor\n",
    "        self.hijos = {}\n",
    "        \n",
    "\n",
    "    def obtener_nodo(self, id_nodo):\n",
    "        \"\"\"\n",
    "        Obtiene el nodo con el id dado, en forma recursiva\n",
    "        \n",
    "        A partir del nodo actual, buscamos el nodo 'id_nodo' entre sus hijos\n",
    "        y lo retornamos si existe.\n",
    "        \"\"\"\n",
    "        # Caso base: ¡Lo encontramos!\n",
    "        if self.id_nodo == id_nodo:\n",
    "            return self\n",
    "\n",
    "        # Buscamos recursivamente entre los hijos\n",
    "        for hijo in self.hijos.values():\n",
    "            nodo = hijo.obtener_nodo(id_nodo)\n",
    "            # Si lo encontró, lo retornamos\n",
    "            if nodo:\n",
    "                return nodo\n",
    "        \n",
    "        # Si no lo encuentra, retorna None\n",
    "        return None\n",
    "\n",
    "\n",
    "    def agregar_nodo(self, id_nodo, valor, id_padre):\n",
    "        \"\"\"Agrega un nodo con el id y valor dado, como hijo del nodo con el id 'id_padre'\"\"\"\n",
    "        # Primero, tenemos que encontrar al padre\n",
    "        padre = self.obtener_nodo(id_padre)\n",
    "        # En caso de que el padre no exista no hacemos nada\n",
    "        if padre is None:\n",
    "            return\n",
    "        \n",
    "        # Creamos el nodo\n",
    "        nodo = Arbol(id_nodo, valor, padre)\n",
    "        # Agregamos el nodo como hijo de su padre\n",
    "        padre.hijos[id_nodo] = nodo\n",
    "        \n",
    "        \n",
    "    def __repr__(self):\n",
    "        \"\"\"\n",
    "        Entrega una representación del árbol, en forma recursiva.\n",
    "        \n",
    "        Para ello, tenemos que pedir la representación de cada hijo recursivamente. \n",
    "        Esto nos lleva a recorrer todos los nodos del árbol.\n",
    "        \"\"\"\n",
    "        # Texto de este nodo.\n",
    "        # Si el nodo es hoja, se avisa de ello.\n",
    "        # Si el nodo no es hoja, se deja un salto de línea para poder nombrar a los hijos.\n",
    "        if self.hijos:\n",
    "            texto = f\"id: {self.id_nodo}, valor: {self.valor}\\n\"\n",
    "        else:\n",
    "            texto = f\"id: {self.id_nodo}, valor: {self.valor}, nodo hoja\"\n",
    "\n",
    "        # Extrae el repr a cada hijo, en forma recursiva.\n",
    "        texto_hijos = [repr(hijo) for hijo in self.hijos.values()]\n",
    "        \n",
    "        # Indentamos cada línea del texto de los hijos con dos espacios.\n",
    "        # Esto es para que se note el nivel del nodo.\n",
    "        texto_hijos = [indent(x, '  ')  for x in texto_hijos]\n",
    "        \n",
    "        return texto + '\\n'.join(texto_hijos)"
   ]
  },
  {
   "cell_type": "markdown",
   "metadata": {},
   "source": [
    "A continuación utilizaremos la clase `Arbol` para crear y poblar el siguiente árbol de ejemplo.\n",
    "![](img/tree1.png)"
   ]
  },
  {
   "cell_type": "code",
   "execution_count": 2,
   "metadata": {},
   "outputs": [
    {
     "data": {
      "text/plain": [
       "id: 0, valor: 10\n",
       "  id: 1, valor: 8\n",
       "    id: 2, valor: 9\n",
       "      id: 8, valor: 4, nodo hoja\n",
       "  id: 3, valor: 12\n",
       "    id: 4, valor: 5\n",
       "      id: 7, valor: 8, nodo hoja\n",
       "    id: 5, valor: 14, nodo hoja\n",
       "    id: 6, valor: 20\n",
       "      id: 9, valor: 15, nodo hoja\n",
       "      id: 10, valor: 6, nodo hoja"
      ]
     },
     "execution_count": 2,
     "metadata": {},
     "output_type": "execute_result"
    }
   ],
   "source": [
    "T = Arbol(0, 10)\n",
    "T.agregar_nodo(1, 8, 0)\n",
    "T.agregar_nodo(3, 12, 0)\n",
    "T.agregar_nodo(2, 9, 1)\n",
    "T.agregar_nodo(4, 5, 3)\n",
    "T.agregar_nodo(5, 14, 3)\n",
    "T.agregar_nodo(6, 20, 3)\n",
    "T.agregar_nodo(8, 4, 2)\n",
    "T.agregar_nodo(7, 8, 4)\n",
    "T.agregar_nodo(9, 15, 6)\n",
    "T.agregar_nodo(10, 6, 6)\n",
    "\n",
    "T"
   ]
  },
  {
   "cell_type": "markdown",
   "metadata": {},
   "source": [
    "Tal como hemos definido este árbol, no hay restricciones acerca de los contenidos de los valores, o de los identificadores, o del orden de los hijos. En este caso hemos ingresado algunos valores repetidos, hemos ingresado identificadores únicos, y no todos los nodos intermedios tienen la misma cantidad de hijos. En ciencia de la computación existen distintos tipos de árboles que restringen sus reglas de construcción de acuerdo al objetivo que se quiere modelar.\n",
    "\n",
    "En este ejemplo, el método retorna `obtener_nodo(id_nodo)` busca recursivamente un nodo con identificador `id_nodo` a partir de la raíz de un árbol, y retorna un objeto nodo (un `Arbol`)."
   ]
  },
  {
   "cell_type": "code",
   "execution_count": 3,
   "metadata": {},
   "outputs": [
    {
     "data": {
      "text/plain": [
       "'El id del nodo es 6'"
      ]
     },
     "execution_count": 3,
     "metadata": {},
     "output_type": "execute_result"
    }
   ],
   "source": [
    "nodo = T.obtener_nodo(6)\n",
    "f\"El id del nodo es {nodo.id_nodo}\""
   ]
  },
  {
   "cell_type": "code",
   "execution_count": 4,
   "metadata": {},
   "outputs": [
    {
     "data": {
      "text/plain": [
       "'El nodo con id 3 tiene 3 hijos'"
      ]
     },
     "execution_count": 4,
     "metadata": {},
     "output_type": "execute_result"
    }
   ],
   "source": [
    "nodo = T.obtener_nodo(3)\n",
    "f\"El nodo con id {nodo.id_nodo} tiene {len(nodo.hijos)} hijos\""
   ]
  },
  {
   "cell_type": "markdown",
   "metadata": {},
   "source": [
    "## Recorrido de un Árbol\n",
    "\n",
    "Una vez que el árbol está construído una problema importante es cómo recorrer (visitar) todos sus nodos de manera ordenada y sistemática. Este operación se llama **recorrido** de un árbol o **_tree traversal_**.\n",
    "\n",
    "El recorrido de un árbol puede implementarse de manera iterativa, o recursiva aprovechando la naturaleza del árbol. En este curso nosotros revisaremos los métodos **Breadth First Search (BFS)** y **Depth First Search (DFS)**."
   ]
  },
  {
   "cell_type": "markdown",
   "metadata": {},
   "source": [
    "### Bread-First Search (BFS)\n",
    "\n",
    "La estrategia _**Breadth First Search (BFS)**_ o **recorrido en amplitud** consiste en recorrer el árbol **por niveles**. En primer lugar se visita la raíz; a continuación se visitan todos los nodos en el segundo nivel de la jerarquía (los hijos de la raíz); posteriormente se sigue con los del nivel siguiente (los hijos de los hijos de la raíaz), y así sucesivamente hasta haber recorrido todo los nodos. \n",
    "\n",
    "El recorrido _por niveles_ se puede apreciar en la siguiente figura, donde los números en rojo indican el orden en que se visitan los nodos:\n",
    "\n",
    "![](img/tree-bfs.png)\n",
    "\n",
    "La implementación del recorrido BFS utiliza una estructura de **cola** para almacenar los nodos que aún no han sido visitados."
   ]
  },
  {
   "cell_type": "code",
   "execution_count": 31,
   "metadata": {},
   "outputs": [
    {
     "name": "stdout",
     "output_type": "stream",
     "text": [
      "Recorrido EN AMPLITUD (BFS, o 'por niveles')\n",
      "nodo_id: 0, id_padre: None -> valor: 10\tPor visitar: 1 3 \n",
      "nodo_id: 1, id_padre: 0 -> valor: 8\tPor visitar: 3 2 \n",
      "nodo_id: 3, id_padre: 0 -> valor: 12\tPor visitar: 2 4 5 6 \n",
      "nodo_id: 2, id_padre: 1 -> valor: 9\tPor visitar: 4 5 6 8 \n",
      "nodo_id: 4, id_padre: 3 -> valor: 5\tPor visitar: 5 6 8 7 \n",
      "nodo_id: 5, id_padre: 3 -> valor: 14\tPor visitar: 6 8 7 \n",
      "nodo_id: 6, id_padre: 3 -> valor: 20\tPor visitar: 8 7 9 10 \n",
      "nodo_id: 8, id_padre: 2 -> valor: 4\tPor visitar: 7 9 10 \n",
      "nodo_id: 7, id_padre: 4 -> valor: 8\tPor visitar: 9 10 \n",
      "nodo_id: 9, id_padre: 6 -> valor: 15\tPor visitar: 10 \n",
      "nodo_id: 10, id_padre: 6 -> valor: 6\tPor visitar: \n",
      "\n"
     ]
    }
   ],
   "source": [
    "from collections import deque\n",
    "\n",
    "class ArbolBFS(Arbol):\n",
    "    # Heredamos de la clase original del Arbol y modificamos el metodo recorrer_arbol \n",
    "    # para usar Breadth-first Search\n",
    "    \n",
    "    def __repr__(self):\n",
    "        \n",
    "        def estado_cola_BFS(Q):\n",
    "            s = ''\n",
    "            for nodo in Q:\n",
    "                s += \"{} \".format(nodo.id_nodo)\n",
    "            return s\n",
    "        \n",
    "        def recorrer_arbol(raiz):\n",
    "            \n",
    "            # Utilizamos una cola para almacenar los nodos por visitar\n",
    "            Q = deque()\n",
    "            # El primer nodo a visitar será la raíz\n",
    "            Q.append(raiz)\n",
    "            # Utilizamos una lista para registrar los nodos visitados (no necesario en árboles)\n",
    "            visitados = []\n",
    "            \n",
    "            # Mientras queden nodos por visitar en la cola ...\n",
    "            while len(Q) > 0:  \n",
    "\n",
    "                # Extraemos el primero de la cola\n",
    "                p = Q.popleft()\n",
    "                \n",
    "                # Si no ha sido visitado (no necesario en árboles)\n",
    "                if p.id_nodo not in visitados:\n",
    "                    \n",
    "                    # Lo agregamos a la lista de visitados (no necesario en árboles)\n",
    "                    visitados.append(p.id_nodo)\n",
    "\n",
    "                    # visitamos el nodo\n",
    "                    self.ret += \"nodo_id: {}, id_padre: {} -> valor: {}\\t\".format(p.id_nodo, \\\n",
    "                                                                                  p.id_padre, p.valor)\n",
    "                \n",
    "                    # Agregamos todos los nodos hijos a la cola de nodos por visitar\n",
    "                    for hijo in p.hijos.values():\n",
    "                        Q.append(hijo)\n",
    "                        \n",
    "                    self.ret += \"Por visitar: {}\\n\".format(estado_cola_BFS(Q))\n",
    "                    \n",
    "            return self\n",
    "\n",
    "        self.ret = ''\n",
    "        recorrer_arbol(self)\n",
    "        return self.ret\n",
    "    \n",
    "# Poblamos el árbol con los datos usados en el ejemplo de la clase 'Arbol'\n",
    "T = ArbolBFS(0, 10)\n",
    "T.agregar_nodo(1, 8, 0)\n",
    "T.agregar_nodo(3, 12, 0)\n",
    "T.agregar_nodo(2, 9, 1)\n",
    "T.agregar_nodo(4, 5, 3)\n",
    "T.agregar_nodo(5, 14, 3)\n",
    "T.agregar_nodo(6, 20, 3)\n",
    "T.agregar_nodo(8, 4, 2)\n",
    "T.agregar_nodo(7, 8, 4)\n",
    "T.agregar_nodo(9, 15, 6)\n",
    "T.agregar_nodo(10, 6, 6)\n",
    "print(\"Recorrido EN AMPLITUD (BFS, o 'por niveles')\")\n",
    "print(T)"
   ]
  },
  {
   "cell_type": "markdown",
   "metadata": {},
   "source": [
    "El código presentado hace uso de una lista `visitados` cuyo único objetivo es evitar que el algoritmo regrese a un nodo cuyo valor ya hemos leído. En el caso de los árboles esto no puede ocurrir ya que la estructura no permite que un nodo tengo como descendiente a un ancestro de él (no puede haber _ciclos_). Podríamos eliminar toda referencia a la lista `visitados` y el algoritmo funcionaría de la misma manera. Sin embargo, en el siguiente capítulo estudiaremos una estructura más compleja (_grafos_) donde también podremos aplicar BFS y la verificación de nodos visitados será muy vital para asegurar que el algoritmo termine."
   ]
  },
  {
   "cell_type": "markdown",
   "metadata": {},
   "source": [
    "### Depth First Search (DFS)\n",
    "\n",
    "La estrategia _**Depth First Search (DFS)**_, o **recorrido en profundidad** consiste en recorrer el árbol **por ramas**. Luego de visitar la raíz, se visitan todos sus hijos, pero descendiendo completamente por cada hijo antes de pasar el siguiente.\n",
    "\n",
    "![](img/tree-dfs.png)\n",
    "\n",
    "La implementación del recorrido DFS utiliza un **_stack_** para almacenar los nodos que deben ser visitados. El resultado es equivalente al recorrido **pre-order**, en el sentido que se desciende por cada rama. En la práctica el orden de las ramas puede variar dependiendo del orden en que se agregan los hijos al _stack_. La manera recursiva de implementar un recorrido DFS consiste en aplicar el recorrido _pre-order_."
   ]
  },
  {
   "cell_type": "code",
   "execution_count": 46,
   "metadata": {},
   "outputs": [
    {
     "name": "stdout",
     "output_type": "stream",
     "text": [
      "Recorrido EN PROFUNDIDAD (DFS, o 'por ramas') \n",
      "nodo_id: 0, id_padre: None -> valor: 10\tPor visitar: 1 3 \n",
      "nodo_id: 3, id_padre: 0 -> valor: 12\tPor visitar: 1 4 5 6 \n",
      "nodo_id: 6, id_padre: 3 -> valor: 20\tPor visitar: 1 4 5 9 10 \n",
      "nodo_id: 10, id_padre: 6 -> valor: 6\tPor visitar: 1 4 5 9 \n",
      "nodo_id: 9, id_padre: 6 -> valor: 15\tPor visitar: 1 4 5 \n",
      "nodo_id: 5, id_padre: 3 -> valor: 14\tPor visitar: 1 4 \n",
      "nodo_id: 4, id_padre: 3 -> valor: 5\tPor visitar: 1 7 \n",
      "nodo_id: 7, id_padre: 4 -> valor: 8\tPor visitar: 1 \n",
      "nodo_id: 1, id_padre: 0 -> valor: 8\tPor visitar: 2 \n",
      "nodo_id: 2, id_padre: 1 -> valor: 9\tPor visitar: 8 \n",
      "nodo_id: 8, id_padre: 2 -> valor: 4\tPor visitar: \n",
      "\n"
     ]
    }
   ],
   "source": [
    "from collections import deque\n",
    "\n",
    "class ArbolDFS(Arbol):\n",
    "    # Heredamos de la clase original del Arbol y modificamos el metodo recorrer_arbol para usar \n",
    "    # el Depth-first Search (DFS)\n",
    "    \n",
    "    def __repr__(self):\n",
    "\n",
    "        def estado_stack_DFS(Q):\n",
    "            s = ''\n",
    "            for nodo in Q:\n",
    "                s += \"{} \".format(nodo.id_nodo)\n",
    "            return s\n",
    "\n",
    "        def recorrer_arbol(raiz):\n",
    "            \n",
    "            # En DFS utilizamos un stack para almacenar los nodos por visitar          \n",
    "            Q = deque()\n",
    "            # El primer nodo a visitar será la raíz\n",
    "            Q.append(raiz)\n",
    "            # Utilizamos una lista para registrar los nodos visitados (no necesario en árboles)\n",
    "            visitados = []\n",
    "\n",
    "            # Mientras queden nodos por visitar en la cola ...\n",
    "            while len(Q) > 0:\n",
    "                # Extraemos el nodo que está en el tope del stack\n",
    "                p = Q.pop()\n",
    "\n",
    "                # Si no ha sido visitado (no necesario en árboles)\n",
    "                if p.id_nodo not in visitados:\n",
    "                    \n",
    "                    # Lo agregamos a la lista de visitados (no necesario en árboles)\n",
    "                    visitados.append(p.id_nodo)\n",
    "                    \n",
    "                    self.ret += \"nodo_id: {}, id_padre: {} -> valor: {}\\t\".format(p.id_nodo,\\\n",
    "                                                                                  p.id_padre, p.valor)\n",
    "\n",
    "                    # Agregamos todos los nodos hijos al stack de nodos por visitar\n",
    "                    # Si los agregamos de manera inversa obtendríamos el mismo resultado que pre-order\n",
    "                    #for hijo in list(p.hijos.values())[::-1]:\n",
    "                    for hijo in p.hijos.values():\n",
    "                        Q.append(hijo)\n",
    "\n",
    "                    self.ret += \"Por visitar: {}\\n\".format(estado_stack_DFS(Q))\n",
    "\n",
    "            return self\n",
    "        \n",
    "        self.ret = ''\n",
    "        recorrer_arbol(self)\n",
    "        \n",
    "        return self.ret\n",
    "    \n",
    "    \n",
    "# Poblamos el árbol con los datos usados en el ejemplo de la clase 'Arbol'\n",
    "T = ArbolDFS(0, 10)\n",
    "T.agregar_nodo(1, 8, 0)\n",
    "T.agregar_nodo(3, 12, 0)\n",
    "T.agregar_nodo(2, 9, 1)\n",
    "T.agregar_nodo(4, 5, 3)\n",
    "T.agregar_nodo(5, 14, 3)\n",
    "T.agregar_nodo(6, 20, 3)\n",
    "T.agregar_nodo(8, 4, 2)\n",
    "T.agregar_nodo(7, 8, 4)\n",
    "T.agregar_nodo(9, 15, 6)\n",
    "T.agregar_nodo(10, 6, 6)\n",
    "print(\"Recorrido EN PROFUNDIDAD (DFS, o 'por ramas') \")\n",
    "print(T)"
   ]
  },
  {
   "cell_type": "markdown",
   "metadata": {},
   "source": [
    "# Árbol Binario"
   ]
  },
  {
   "cell_type": "markdown",
   "metadata": {},
   "source": [
    "Los **árboles binarios** son un caso particular de las árboles, donde:\n",
    "\n",
    "- cada nodo tiene como máximo **dos nodos hijo**\n",
    "- cada nodo hijo está etiquetado como **hijo-izquierdo**o bien como **hijo-derecho** (a lo más un hijo izquierdo y a lo más un hijo derecho), y\n",
    "- en términos de precedencia, el hijo-izquierdo **precede** al hijo-derecho.\n",
    "\n",
    "En un árbol binario el máximo número de nodos crece en forma exponencial. Sea el <b>nivel</b> <i>d</i> de un arbol <b>T</b> el conjunto de todos los nodos ubicados a la misma profundidad <i>d</i>. En el nivel <i>d</i> = 0 existe a lo más el nodo raíz. El nivel <i>d</i> = 2 tiene a lo más dos nodos, y así sucesivamente. Al nivel <i>d</i>, el árbol debe tener como máximo 2<sup><i>d</i></sup> nodos. Se denomina árbol binario **completo** a aquel árbol en donde cada nodo padre del árbol presenta los dos nodos hijos, tal como se muestra en la siguiente figura.\n",
    "\n",
    "![](img/binary-tree.png)\n",
    "\n",
    "Un ejemplo real de árbol binario son los **árboles de decisión** en donde cada nodo interno y además la raíz están asociados a una pregunta, y cuyas respuestas (Si, No) quedan representadas en los dos nodos hijos. Otro ejemplo son las **operaciones aritméticas**, en donde las variables son representadas por los nodos hoja, y las operaciones por los nodos interiores."
   ]
  },
  {
   "cell_type": "markdown",
   "metadata": {},
   "source": [
    "## Árbol Binario basado en nodos enlazados"
   ]
  },
  {
   "cell_type": "markdown",
   "metadata": {},
   "source": [
    "En esta implementación de árbol binario, modelaremos cada nodo como un objeto que tendrá por atributos las referencias al nodo padre, hijos, y el elemento en esa posición. Usaremos el valor `None` para señalar que un atributos particular no existe. Por ejemplo, si se modela el nodo padre, el atributo `padre = None`. A continuación el modelamiento queda de la siguiente forma:"
   ]
  },
  {
   "cell_type": "code",
   "execution_count": 2,
   "metadata": {
    "scrolled": true
   },
   "outputs": [
    {
     "name": "stdout",
     "output_type": "stream",
     "text": [
      "padre: None, valor: 4 -> r\n",
      "padre: 4, valor: 1 -> i\n",
      "padre: 1, valor: 3 -> d\n",
      "padre: 4, valor: 5 -> d\n",
      "padre: 5, valor: 20 -> d\n",
      "\n"
     ]
    }
   ],
   "source": [
    "class Nodo:\n",
    "    def __init__(self, valor, padre=None):\n",
    "        self.valor = valor\n",
    "        self.padre = padre\n",
    "        self.hijo_izquierdo = None\n",
    "        self.hijo_derecho = None\n",
    "\n",
    "    def __repr__(self):\n",
    "        return 'padre: {0}, valor: {1}'.format(self.padre, self.valor)\n",
    "\n",
    "\n",
    "class ArbolBinario:\n",
    "    def __init__(self, nodo_raiz=None):\n",
    "        self.nodo_raiz = nodo_raiz\n",
    "\n",
    "    def agregar_nodo(self, valor):\n",
    "        if self.nodo_raiz == None:\n",
    "            self.nodo_raiz = Nodo(valor)\n",
    "        else:\n",
    "            temp = self.nodo_raiz\n",
    "            agregado = False\n",
    "\n",
    "            while not agregado:\n",
    "                # Recursivamente recorremos el árbol revisando cada nodo usando\n",
    "                # alguna regla. En este caso si el valor del nuevo nodo es mayor \n",
    "                # o no que el valor del nodo revisado.\n",
    "                \n",
    "                if valor <= temp.valor:\n",
    "                    if temp.hijo_izquierdo == None:\n",
    "                        # Si no hay nodo izquierdo, agregamos el nuevo nodo\n",
    "                        temp.hijo_izquierdo = Nodo(valor, temp.valor)\n",
    "                        agregado = True\n",
    "                    else:\n",
    "                        # Si ya existe un nodo izquierdo seguimos revisando\n",
    "                        temp = temp.hijo_izquierdo\n",
    "                else:\n",
    "                    if temp.hijo_derecho == None:\n",
    "                        # Si no hay un nodo derecho, agregamos el valor como \n",
    "                        # un nuevo nodo\n",
    "                        temp.hijo_derecho = Nodo(valor, temp.valor)\n",
    "                        agregado = True\n",
    "                    else:\n",
    "                        # Si ya hay un nodo seguimos buscando en profundidad\n",
    "                        temp = temp.hijo_derecho\n",
    "\n",
    "    def __repr__(self):\n",
    "        def recorrer(nodo, lado=\"r\"):\n",
    "            ret = ''\n",
    "\n",
    "            if nodo != None:\n",
    "                ret += '{0} -> {1}\\n'.format(nodo, lado)\n",
    "                ret += recorrer(nodo.hijo_izquierdo, 'i')\n",
    "                ret += recorrer(nodo.hijo_derecho, 'd')\n",
    "\n",
    "            return ret\n",
    "\n",
    "        ret = recorrer(self.nodo_raiz)\n",
    "        return ret\n",
    "\n",
    "\n",
    "T = ArbolBinario()\n",
    "T.agregar_nodo(4)\n",
    "T.agregar_nodo(1)\n",
    "T.agregar_nodo(5)\n",
    "T.agregar_nodo(3)\n",
    "T.agregar_nodo(20)\n",
    "\n",
    "print(T)"
   ]
  },
  {
   "cell_type": "markdown",
   "metadata": {},
   "source": [
    "<font size='1' face='Arial'><sup>1</sup>Agradecemos a los ayudantes del curso Belén Saldías, Ivania Donoso, Patricio López, Jaime Castro, Rodrigo Gómez y Marco Bucchi por su colaboración durante la revisión de este material.</font>"
   ]
  }
 ],
 "metadata": {
  "anaconda-cloud": {},
  "kernelspec": {
   "display_name": "Python 3",
   "language": "python",
   "name": "python3"
  },
  "language_info": {
   "codemirror_mode": {
    "name": "ipython",
    "version": 3
   },
   "file_extension": ".py",
   "mimetype": "text/x-python",
   "name": "python",
   "nbconvert_exporter": "python",
   "pygments_lexer": "ipython3",
   "version": "3.7.0"
  }
 },
 "nbformat": 4,
 "nbformat_minor": 1
}
