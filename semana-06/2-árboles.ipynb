{
 "cells": [
  {
   "cell_type": "markdown",
   "metadata": {},
   "source": [
    "<p>\n",
    "<font size='5' face='Georgia, Arial'>IIC-2233 Apunte Programación Avanzada</font><br>\n",
    "<font size='1'>&copy; 2015-2016 Karim Pichara - Christian Pieringer <sup>1</sup>. Todos los derechos reservados.</font>\n",
    "</p>"
   ]
  },
  {
   "cell_type": "markdown",
   "metadata": {},
   "source": [
    "# Árboles\n",
    "\n",
    "Un **árbol** corresponde a una estructura de datos _no lineal_. Un árbol es un conjunto de nodos que sigue una estructura **jerárquica**. A diferencia de las estructuras basadas en secuencias (lineales) como listas, colas y pilas, en los árboles los elementos están ordenados de acuerdo a una relación _padre-hijo_ entre los nodos. El primer nodo en el árbol recibe el nombre de **nodo raíz** (_root_). Cada nodo del árbol, salvo el nodo raíz, tiene un **_padre_** (_parent_) y cero o más nodos **_hijos_** (_children_). Los nodos provenientes de un mismo padre se denominan nodos **hermanos** y los nodos en la línea de descendencia del nodo padre se conocen como **ancestros**. Los nodos que no poseen hijos se denominan nodos **hoja**."
   ]
  },
  {
   "cell_type": "markdown",
   "metadata": {},
   "source": [
    "Formalmente, un árbol $T$ que ordena sus elementos bajo una relación <i>padre-hijo</i> tiene las siguientes propiedades:\n",
    "\n",
    "- Si $T$ no está vacío, entonces tiene un único nodo <i>raíz</i> que no tiene padres\n",
    "- Cada nodo <i>c</i> en $T$ distinto de la raíz, tiene un único padre $p$, y todos los nodos que tienen por padre a $p$ son hijos de $p$.\n",
    "\n",
    "En la figura a continuación, el árbol mostrado tiene como nodo raíz a \"Reino Animal\". Este nodo tiene dos nodos hijos: \"Vertebrados\" e \"Invertebrados\". Por otro lado, el nodo \"Gusanos\" tiene como nodo padre al nodo \"Invertebrados\", y tiene cero nodos hijos.\n",
    "\n",
    "![](img/trees-example.png)"
   ]
  },
  {
   "cell_type": "markdown",
   "metadata": {},
   "source": [
    "<p>\n",
    "Una <b>arista</b> corresponde a una conexión directa entre un par de nodos $(u,v)$. Cada nodo tiene una arista que lo conecta con su padre, y una arista que lo conecta con cada uno de sus hijos. Una secuencia ordenada de nodos consecutivos unidos por un vértice a lo largo de un árbol $T$ forman un <b>camino</b>. En la figura anterior, los nodos <i>Peces</i> y <i>Oseos</i> poseen una arista, y están en el camino <i>Reino Animal-Vertebrados-Peces-Oseos</i>. Los nodos que no tienen hijos se conocen como nodos <b>hoja</b> (_leaf node_). Todos los nodos que no son hoja ni raíz se denominan **nodos interiores**.\n",
    "</p>\n",
    "\n",
    "<p>\n",
    "La <b>profundidad</b> (_depth_) de un nodo $u$ corresponde el número de arista que debe recorrer para llegar a la raíz. La <b>altura</b> (_height_) del árbol corresponde al máximo de las profundidades alcanzadas por los nodos hoja. Por ejemplo en la figura anterior, la profundidad del nodo _Peces_ es 2, y la altura del árbol es 3.\n",
    "</p>"
   ]
  },
  {
   "cell_type": "markdown",
   "metadata": {},
   "source": [
    "## Árboles basados en nodos enlazados\n",
    "\n",
    "Una forma de representar un árbol consiste en modelar cada nodo como un objeto con los atributos: `id_nodo`, que corresponde a un identificador para el nodo; `id_padre`, que usaremos referirnos a su nodo padre; `hijos` que será una estructura que almacena referencias a sus hijos; y un `valor` almacenado en ese nodo. \n",
    "\n",
    "Un árbol es una estructura recursiva. Cada nodo es, a su vez, la raíz de un sub-árbol formado por él y sus hijos. Podemos crear el árbol completo agregando nodos incrementalmente.\n",
    "\n",
    "En este ejemplo definiremos dos métodos para la clase `Arbol`:\n",
    "* `agregar_nodo(id_nodo, valor, id_padre)`, permite agregar un nuevo nodo al árbol como hijo del nodo con identificador `id_padre`. El nuevo nodo tendrá identificador `id_nodo` y valor `valor`.\n",
    "* `obtener_nodo(id_nodo)` retorna el nodo con identificador `id_nodo`."
   ]
  },
  {
   "cell_type": "code",
   "execution_count": 5,
   "metadata": {},
   "outputs": [],
   "source": [
    "# Esta clase representa un árbol.\n",
    "# La estructura es recursiva, de manera que cada nodo es la raíz de un sub-árbol\n",
    "# Los nodos hijos pueden ser guardados en alguna estructura como listas o diccionarios. \n",
    "# En este ejemplo, los nodos hijos serán guardados en un diccionario.\n",
    "class Arbol:\n",
    "\n",
    "    # Inicializamos la estructura básica del árbol.\n",
    "    # Tiene un identificador propio, el identificador de su padre, el valor almacenado\n",
    "    # y una estructura con sus hijos.\n",
    "    def __init__(self, id_nodo, valor=None, id_padre=None):\n",
    "        self.id_nodo = id_nodo\n",
    "        self.id_padre = id_padre\n",
    "        self.valor = valor\n",
    "        self.hijos = {}       \n",
    "\n",
    "        \n",
    "    # Método recursivo. Agregar un nodo con identificador 'id_nodo' y valor 'valor',\n",
    "    # como hijo del nodo con identificador 'id_padre'\n",
    "    def agregar_nodo(self, id_nodo, valor=None, id_padre=None):\n",
    "        # Si estamos en el nodo 'id_padre', agregamos el nuevo nodo al diccionario de hijos\n",
    "        if self.id_nodo == id_padre:\n",
    "            nuevo_nodo = Arbol(id_nodo, valor, id_padre)\n",
    "            self.hijos[id_nodo] =  nuevo_nodo\n",
    "        else:\n",
    "            # Si no estamos en el nodo 'id_padre', buscamos recursivamente\n",
    "            # a partir de cada hijo\n",
    "            for hijo in self.hijos.values():\n",
    "                hijo.agregar_nodo(id_nodo, valor, id_padre)\n",
    "                \n",
    "\n",
    "    # Método recursivo. A partir del nodo actual, buscamos el nodo 'id_nodo'\n",
    "    # entre sus hijos y lo retornamos si existe.\n",
    "    def obtener_nodo(self, id_nodo):\n",
    "        # ¡Lo encontramos!\n",
    "        if self.id_nodo == id_nodo:\n",
    "            return self\n",
    "        else:\n",
    "            # Buscamos recursivamente entre los hijos\n",
    "            for hijo in self.hijos.values():\n",
    "                nodo = hijo.obtener_nodo(id_nodo)\n",
    "                # Si lo encontró, lo retornamos\n",
    "                if nodo:\n",
    "                    return nodo\n",
    "        # Si no lo encuentra, retorna None\n",
    "        return None\n",
    "                       \n",
    "    # El método __repr__ recorre recursivamente todos los nodos del árbol.\n",
    "    def __repr__(self):\n",
    "\n",
    "        # Si definimos un método dentro de otro método, podemos utilizarlo solamente\n",
    "        # dentro del scope en que fue definido. En este caso, dentro de una invocación de __repr__.\n",
    "        def recorrer_arbol(raiz):\n",
    "            for hijo in raiz.hijos.values():\n",
    "                self.ret += \"id_nodo: {} -> id_padre: {} -> valor: {}\\n\".format(hijo.id_nodo, \\\n",
    "                                                                                hijo.id_padre, hijo.valor)\n",
    "                recorrer_arbol(hijo)\n",
    "                \n",
    "            return self\n",
    "\n",
    "        self.ret = 'RAIZ:\\nid_root: {} -> valor: {}\\n\\nHIJOS:\\n'.format(self.id_nodo, self.valor)\n",
    "        recorrer_arbol(self)        \n",
    "        return self.ret"
   ]
  },
  {
   "cell_type": "markdown",
   "metadata": {},
   "source": [
    "A continuación utilizaremos la clase `Arbol` para crear y poblar el siguiente árbol de ejemplo.\n",
    "![](img/tree1.png)"
   ]
  },
  {
   "cell_type": "code",
   "execution_count": 6,
   "metadata": {},
   "outputs": [
    {
     "name": "stdout",
     "output_type": "stream",
     "text": [
      "RAIZ:\n",
      "id_root: 0 -> valor: 10\n",
      "\n",
      "HIJOS:\n",
      "id_nodo: 1 -> id_padre: 0 -> valor: 8\n",
      "id_nodo: 2 -> id_padre: 1 -> valor: 9\n",
      "id_nodo: 8 -> id_padre: 2 -> valor: 4\n",
      "id_nodo: 3 -> id_padre: 0 -> valor: 12\n",
      "id_nodo: 4 -> id_padre: 3 -> valor: 5\n",
      "id_nodo: 7 -> id_padre: 4 -> valor: 2\n",
      "id_nodo: 5 -> id_padre: 3 -> valor: 14\n",
      "id_nodo: 6 -> id_padre: 3 -> valor: 20\n",
      "id_nodo: 9 -> id_padre: 6 -> valor: 15\n",
      "id_nodo: 10 -> id_padre: 6 -> valor: 6\n",
      "\n"
     ]
    }
   ],
   "source": [
    "T = Arbol(0, 10)\n",
    "T.agregar_nodo(1, 8, 0)\n",
    "T.agregar_nodo(3, 12, 0)\n",
    "T.agregar_nodo(2, 9, 1)\n",
    "T.agregar_nodo(4, 5, 3)\n",
    "T.agregar_nodo(5, 14, 3)\n",
    "T.agregar_nodo(6, 20, 3)\n",
    "T.agregar_nodo(8, 4, 2)\n",
    "T.agregar_nodo(7, 8, 4)\n",
    "T.agregar_nodo(9, 15, 6)\n",
    "T.agregar_nodo(10, 6, 6)\n",
    "\n",
    "# Desplegamos el árbol según se definió en el método __repr__\n",
    "print(T)"
   ]
  },
  {
   "cell_type": "markdown",
   "metadata": {},
   "source": [
    "Tal como hemos definido este árbol, no hay restricciones acerca de los contenidos de los valores, o de los identificadores, o del orden de los hijos. En este caso hemos ingresado algunos valores repetidos, hemos ingresado identificadores únicos, y no todos los nodos intermedios tienen la misma cantidad de hijos. En ciencia de la computación existen distintos tipos de árboles que restringen sus reglas de construcción de acuerdo al objetivo que se quiere modelar.\n",
    "\n",
    "En este ejemplo, el método retorna `obtener_nodo(id_nodo)` busca recursivamente un nodo con identificador `id_nodo` a partir de la raíz de un árbol, y retorna un objeto nodo (un `Arbol`)."
   ]
  },
  {
   "cell_type": "code",
   "execution_count": 9,
   "metadata": {},
   "outputs": [
    {
     "name": "stdout",
     "output_type": "stream",
     "text": [
      "El ID del nodo es 6\n",
      "El nodo con ID 3 tiene 3 hijos\n"
     ]
    }
   ],
   "source": [
    "nodo = T.obtener_nodo(6)\n",
    "print('El ID del nodo es {}'.format(nodo.id_nodo))\n",
    "\n",
    "nodo = T.obtener_nodo(3)\n",
    "print('El nodo con ID {} tiene {} hijos'.format(nodo.id_nodo, len(nodo.hijos)))\n"
   ]
  },
  {
   "cell_type": "markdown",
   "metadata": {},
   "source": [
    "## Recorrido de un Árbol\n",
    "\n",
    "Una vez que el árbol está construído una problema importante es cómo recorrer (visitar) todos sus nodos de manera ordenada y sistemática. Este operación se llama **recorrido** de un árbol o **_tree traversal_**.\n",
    "\n",
    "El recorrido de un árbol puede implementarse de manera iterativa, o recursiva aprovechando la naturaleza del árbol. En este curso nosotros revisaremos los métodos **Breadth First Search (BFS)** y **Depth First Search (DFS)**."
   ]
  },
  {
   "cell_type": "markdown",
   "metadata": {},
   "source": [
    "### Bread-First Search (BFS)\n",
    "\n",
    "La estrategia _**Breadth First Search (BFS)**_ o **recorrido en amplitud** consiste en recorrer el árbol **por niveles**. En primer lugar se visita la raíz; a continuación se visitan todos los nodos en el segundo nivel de la jerarquía (los hijos de la raíz); posteriormente se sigue con los del nivel siguiente (los hijos de los hijos de la raíaz), y así sucesivamente hasta haber recorrido todo los nodos. El recorrido _por niveles_ se puede apreciar en la siguiente figura:\n",
    "\n",
    "![](img/tree-bfs.png)\n",
    "\n",
    "La implementación del recorrido BFS utiliza una estructura de **cola** para almacenar los nodos que aún no han sido visitados."
   ]
  },
  {
   "cell_type": "code",
   "execution_count": 31,
   "metadata": {},
   "outputs": [
    {
     "name": "stdout",
     "output_type": "stream",
     "text": [
      "Recorrido EN AMPLITUD (BFS, o 'por niveles')\n",
      "nodo_id: 0, id_padre: None -> valor: 10\tPor visitar: 1 3 \n",
      "nodo_id: 1, id_padre: 0 -> valor: 8\tPor visitar: 3 2 \n",
      "nodo_id: 3, id_padre: 0 -> valor: 12\tPor visitar: 2 4 5 6 \n",
      "nodo_id: 2, id_padre: 1 -> valor: 9\tPor visitar: 4 5 6 8 \n",
      "nodo_id: 4, id_padre: 3 -> valor: 5\tPor visitar: 5 6 8 7 \n",
      "nodo_id: 5, id_padre: 3 -> valor: 14\tPor visitar: 6 8 7 \n",
      "nodo_id: 6, id_padre: 3 -> valor: 20\tPor visitar: 8 7 9 10 \n",
      "nodo_id: 8, id_padre: 2 -> valor: 4\tPor visitar: 7 9 10 \n",
      "nodo_id: 7, id_padre: 4 -> valor: 8\tPor visitar: 9 10 \n",
      "nodo_id: 9, id_padre: 6 -> valor: 15\tPor visitar: 10 \n",
      "nodo_id: 10, id_padre: 6 -> valor: 6\tPor visitar: \n",
      "\n"
     ]
    }
   ],
   "source": [
    "from collections import deque\n",
    "\n",
    "class ArbolBFS(Arbol):\n",
    "    # Heredamos de la clase original del Arbol y modificamos el metodo recorrer_arbol \n",
    "    # para usar Breadth-first Search\n",
    "    \n",
    "    def __repr__(self):\n",
    "        \n",
    "        def estado_cola_BFS(Q):\n",
    "            s = ''\n",
    "            for nodo in Q:\n",
    "                s += \"{} \".format(nodo.id_nodo)\n",
    "            return s\n",
    "        \n",
    "        def recorrer_arbol(raiz):\n",
    "            \n",
    "            # Utilizamos una cola para almacenar los nodos por visitar\n",
    "            Q = deque()\n",
    "            # El primer nodo a visitar será la raíz\n",
    "            Q.append(raiz)\n",
    "            # Utilizamos una lista para registrar los nodos visitados (no necesario en árboles)\n",
    "            visitados = []\n",
    "            \n",
    "            # Mientras queden nodos por visitar en la cola ...\n",
    "            while len(Q) > 0:  \n",
    "\n",
    "                # Extraemos el primero de la cola\n",
    "                p = Q.popleft()\n",
    "                \n",
    "                # Si no ha sido visitado (no necesario en árboles)\n",
    "                if p.id_nodo not in visitados:\n",
    "                    \n",
    "                    # Lo agregamos a la lista de visitados (no necesario en árboles)\n",
    "                    visitados.append(p.id_nodo)\n",
    "\n",
    "                    # visitamos el nodo\n",
    "                    self.ret += \"nodo_id: {}, id_padre: {} -> valor: {}\\t\".format(p.id_nodo, \\\n",
    "                                                                                  p.id_padre, p.valor)\n",
    "                \n",
    "                    # Agregamos todos los nodos hijos a la cola de nodos por visitar\n",
    "                    for hijo in p.hijos.values():\n",
    "                        Q.append(hijo)\n",
    "                        \n",
    "                    self.ret += \"Por visitar: {}\\n\".format(estado_cola_BFS(Q))\n",
    "                    \n",
    "            return self\n",
    "\n",
    "        self.ret = ''\n",
    "        recorrer_arbol(self)\n",
    "        return self.ret\n",
    "    \n",
    "# Poblamos el árbol con los datos usados en el ejemplo de la clase 'Arbol'\n",
    "T = ArbolBFS(0, 10)\n",
    "T.agregar_nodo(1, 8, 0)\n",
    "T.agregar_nodo(3, 12, 0)\n",
    "T.agregar_nodo(2, 9, 1)\n",
    "T.agregar_nodo(4, 5, 3)\n",
    "T.agregar_nodo(5, 14, 3)\n",
    "T.agregar_nodo(6, 20, 3)\n",
    "T.agregar_nodo(8, 4, 2)\n",
    "T.agregar_nodo(7, 8, 4)\n",
    "T.agregar_nodo(9, 15, 6)\n",
    "T.agregar_nodo(10, 6, 6)\n",
    "print(\"Recorrido EN AMPLITUD (BFS, o 'por niveles')\")\n",
    "print(T)"
   ]
  },
  {
   "cell_type": "markdown",
   "metadata": {},
   "source": [
    "El código presentado hace uso de una lista `visitados` cuyo único objetivo es evitar que el algoritmo regrese a un nodo cuyo valor ya hemos leído. En el caso de los árboles esto no puede ocurrir ya que la estructura no permite que un nodo tengo como descendiente a un ancestro de él (no puede haber _ciclos_). Podríamos eliminar toda referencia a la lista `visitados` y el algoritmo funcionaría de la misma manera. Sin embargo, en el siguiente capítulo estudiaremos una estructura más compleja (_grafos_) donde también podremos aplicar BFS y la verificación de nodos visitados será muy vital para asegurar que el algoritmo termine."
   ]
  },
  {
   "cell_type": "markdown",
   "metadata": {},
   "source": [
    "### Depth First Search (DFS)\n",
    "\n",
    "La estrategia _**Depth First Search (DFS)**_, o **recorrido en profundidad** consiste en recorrer el árbol **por ramas**. Luego de visitar la raíz, se visitan todos sus hijos, pero descendiendo completamente por cada hijo antes de pasar el siguiente.\n",
    "\n",
    "![](img/tree-dfs.png)\n",
    "\n",
    "La implementación del recorrido DFS utiliza un **_stack_** para almacenar los nodos que deben ser visitados. El resultado es equivalente al recorrido **pre-order**, en el sentido que se desciende por cada rama. En la práctica el orden de las ramas puede variar dependiendo del orden en que se agregan los hijos al _stack_. La manera recursiva de implementar un recorrido DFS consiste en aplicar el recorrido _pre-order_."
   ]
  },
  {
   "cell_type": "code",
   "execution_count": 46,
   "metadata": {},
   "outputs": [
    {
     "name": "stdout",
     "output_type": "stream",
     "text": [
      "Recorrido EN PROFUNDIDAD (DFS, o 'por ramas') \n",
      "nodo_id: 0, id_padre: None -> valor: 10\tPor visitar: 1 3 \n",
      "nodo_id: 3, id_padre: 0 -> valor: 12\tPor visitar: 1 4 5 6 \n",
      "nodo_id: 6, id_padre: 3 -> valor: 20\tPor visitar: 1 4 5 9 10 \n",
      "nodo_id: 10, id_padre: 6 -> valor: 6\tPor visitar: 1 4 5 9 \n",
      "nodo_id: 9, id_padre: 6 -> valor: 15\tPor visitar: 1 4 5 \n",
      "nodo_id: 5, id_padre: 3 -> valor: 14\tPor visitar: 1 4 \n",
      "nodo_id: 4, id_padre: 3 -> valor: 5\tPor visitar: 1 7 \n",
      "nodo_id: 7, id_padre: 4 -> valor: 8\tPor visitar: 1 \n",
      "nodo_id: 1, id_padre: 0 -> valor: 8\tPor visitar: 2 \n",
      "nodo_id: 2, id_padre: 1 -> valor: 9\tPor visitar: 8 \n",
      "nodo_id: 8, id_padre: 2 -> valor: 4\tPor visitar: \n",
      "\n"
     ]
    }
   ],
   "source": [
    "from collections import deque\n",
    "\n",
    "class ArbolDFS(Arbol):\n",
    "    # Heredamos de la clase original del Arbol y modificamos el metodo recorrer_arbol para usar \n",
    "    # el Depth-first Search (DFS)\n",
    "    \n",
    "    def __repr__(self):\n",
    "\n",
    "        def estado_stack_DFS(Q):\n",
    "            s = ''\n",
    "            for nodo in Q:\n",
    "                s += \"{} \".format(nodo.id_nodo)\n",
    "            return s\n",
    "\n",
    "        def recorrer_arbol(raiz):\n",
    "            \n",
    "            # En DFS utilizamos un stack para almacenar los nodos por visitar          \n",
    "            Q = deque()\n",
    "            # El primer nodo a visitar será la raíz\n",
    "            Q.append(raiz)\n",
    "            # Utilizamos una lista para registrar los nodos visitados (no necesario en árboles)\n",
    "            visitados = []\n",
    "\n",
    "            # Mientras queden nodos por visitar en la cola ...\n",
    "            while len(Q) > 0:\n",
    "                # Extraemos el nodo que está en el tope del stack\n",
    "                p = Q.pop()\n",
    "\n",
    "                # Si no ha sido visitado (no necesario en árboles)\n",
    "                if p.id_nodo not in visitados:\n",
    "                    \n",
    "                    # Lo agregamos a la lista de visitados (no necesario en árboles)\n",
    "                    visitados.append(p.id_nodo)\n",
    "                    \n",
    "                    self.ret += \"nodo_id: {}, id_padre: {} -> valor: {}\\t\".format(p.id_nodo,\\\n",
    "                                                                                  p.id_padre, p.valor)\n",
    "\n",
    "                    # Agregamos todos los nodos hijos al stack de nodos por visitar\n",
    "                    # Si los agregamos de manera inversa obtendríamos el mismo resultado que pre-order\n",
    "                    #for hijo in list(p.hijos.values())[::-1]:\n",
    "                    for hijo in p.hijos.values():\n",
    "                        Q.append(hijo)\n",
    "\n",
    "                    self.ret += \"Por visitar: {}\\n\".format(estado_stack_DFS(Q))\n",
    "\n",
    "            return self\n",
    "        \n",
    "        self.ret = ''\n",
    "        recorrer_arbol(self)\n",
    "        \n",
    "        return self.ret\n",
    "    \n",
    "    \n",
    "# Poblamos el árbol con los datos usados en el ejemplo de la clase 'Arbol'\n",
    "T = ArbolDFS(0, 10)\n",
    "T.agregar_nodo(1, 8, 0)\n",
    "T.agregar_nodo(3, 12, 0)\n",
    "T.agregar_nodo(2, 9, 1)\n",
    "T.agregar_nodo(4, 5, 3)\n",
    "T.agregar_nodo(5, 14, 3)\n",
    "T.agregar_nodo(6, 20, 3)\n",
    "T.agregar_nodo(8, 4, 2)\n",
    "T.agregar_nodo(7, 8, 4)\n",
    "T.agregar_nodo(9, 15, 6)\n",
    "T.agregar_nodo(10, 6, 6)\n",
    "print(\"Recorrido EN PROFUNDIDAD (DFS, o 'por ramas') \")\n",
    "print(T)"
   ]
  },
  {
   "cell_type": "markdown",
   "metadata": {},
   "source": [
    "# Árbol Binario"
   ]
  },
  {
   "cell_type": "markdown",
   "metadata": {},
   "source": [
    "Los **árboles binarios** son un caso particular de las árboles, donde:\n",
    "\n",
    "- cada nodo tiene como máximo **dos nodos hijo**\n",
    "- cada nodo hijo está etiquetado como **hijo-izquierdo**o bien como **hijo-derecho** (a lo más un hijo izquierdo y a lo más un hijo derecho), y\n",
    "- en términos de precedencia, el hijo-izquierdo **precede** al hijo-derecho.\n",
    "\n",
    "En un árbol binario el máximo número de nodos crece en forma exponencial. Sea el <b>nivel</b> <i>d</i> de un arbol <b>T</b> el conjunto de todos los nodos ubicados a la misma profundidad <i>d</i>. En el nivel <i>d</i> = 0 existe a lo más el nodo raíz. El nivel <i>d</i> = 2 tiene a lo más dos nodos, y así sucesivamente. Al nivel <i>d</i>, el árbol debe tener como máximo 2<sup><i>d</i></sup> nodos. Se denomina árbol binario **completo** a aquel árbol en donde cada nodo padre del árbol presenta los dos nodos hijos, tal como se muestra en la siguiente figura.\n",
    "\n",
    "![](img/binary-tree.png)\n",
    "\n",
    "Un ejemplo real de árbol binario son los **árboles de decisión** en donde cada nodo interno y además la raíz están asociados a una pregunta, y cuyas respuestas (Si, No) quedan representadas en los dos nodos hijos. Otro ejemplo son las **operaciones aritméticas**, en donde las variables son representadas por los nodos hoja, y las operaciones por los nodos interiores."
   ]
  },
  {
   "cell_type": "markdown",
   "metadata": {},
   "source": [
    "## Árbol Binario basado en nodos enlazados"
   ]
  },
  {
   "cell_type": "markdown",
   "metadata": {},
   "source": [
    "En esta implementación de árbol binario, modelaremos cada nodo como un objeto que tendrá por atributos las referencias al nodo padre, hijos, y el elemento en esa posición. Usaremos el valor `None` para señalar que un atributos particular no existe. Por ejemplo, si se modela el nodo padre, el atributo `padre = None`. A continuación el modelamiento queda de la siguiente forma:"
   ]
  },
  {
   "cell_type": "code",
   "execution_count": 2,
   "metadata": {
    "scrolled": true
   },
   "outputs": [
    {
     "name": "stdout",
     "output_type": "stream",
     "text": [
      "padre: None, valor: 4 -> r\n",
      "padre: 4, valor: 1 -> i\n",
      "padre: 1, valor: 3 -> d\n",
      "padre: 4, valor: 5 -> d\n",
      "padre: 5, valor: 20 -> d\n",
      "\n"
     ]
    }
   ],
   "source": [
    "class Nodo:\n",
    "    def __init__(self, valor, padre=None):\n",
    "        self.valor = valor\n",
    "        self.padre = padre\n",
    "        self.hijo_izquierdo = None\n",
    "        self.hijo_derecho = None\n",
    "\n",
    "    def __repr__(self):\n",
    "        return 'padre: {0}, valor: {1}'.format(self.padre, self.valor)\n",
    "\n",
    "\n",
    "class ArbolBinario:\n",
    "    def __init__(self, nodo_raiz=None):\n",
    "        self.nodo_raiz = nodo_raiz\n",
    "\n",
    "    def agregar_nodo(self, valor):\n",
    "        if self.nodo_raiz == None:\n",
    "            self.nodo_raiz = Nodo(valor)\n",
    "        else:\n",
    "            temp = self.nodo_raiz\n",
    "            agregado = False\n",
    "\n",
    "            while not agregado:\n",
    "                # Recursivamente recorremos el árbol revisando cada nodo usando\n",
    "                # alguna regla. En este caso si el valor del nuevo nodo es mayor \n",
    "                # o no que el valor del nodo revisado.\n",
    "                \n",
    "                if valor <= temp.valor:\n",
    "                    if temp.hijo_izquierdo == None:\n",
    "                        # Si no hay nodo izquierdo, agregamos el nuevo nodo\n",
    "                        temp.hijo_izquierdo = Nodo(valor, temp.valor)\n",
    "                        agregado = True\n",
    "                    else:\n",
    "                        # Si ya existe un nodo izquierdo seguimos revisando\n",
    "                        temp = temp.hijo_izquierdo\n",
    "                else:\n",
    "                    if temp.hijo_derecho == None:\n",
    "                        # Si no hay un nodo derecho, agregamos el valor como \n",
    "                        # un nuevo nodo\n",
    "                        temp.hijo_derecho = Nodo(valor, temp.valor)\n",
    "                        agregado = True\n",
    "                    else:\n",
    "                        # Si ya hay un nodo seguimos buscando en profundidad\n",
    "                        temp = temp.hijo_derecho\n",
    "\n",
    "    def __repr__(self):\n",
    "        def recorrer(nodo, lado=\"r\"):\n",
    "            ret = ''\n",
    "\n",
    "            if nodo != None:\n",
    "                ret += '{0} -> {1}\\n'.format(nodo, lado)\n",
    "                ret += recorrer(nodo.hijo_izquierdo, 'i')\n",
    "                ret += recorrer(nodo.hijo_derecho, 'd')\n",
    "\n",
    "            return ret\n",
    "\n",
    "        ret = recorrer(self.nodo_raiz)\n",
    "        return ret\n",
    "\n",
    "\n",
    "T = ArbolBinario()\n",
    "T.agregar_nodo(4)\n",
    "T.agregar_nodo(1)\n",
    "T.agregar_nodo(5)\n",
    "T.agregar_nodo(3)\n",
    "T.agregar_nodo(20)\n",
    "\n",
    "print(T)"
   ]
  },
  {
   "cell_type": "markdown",
   "metadata": {},
   "source": [
    "<font size='1' face='Arial'><sup>1</sup>Agradecemos a los ayudantes del curso Belén Saldías, Ivania Donoso, Patricio López, Jaime Castro, Rodrigo Gómez y Marco Bucchi por su colaboración durante la revisión de este material.</font>"
   ]
  }
 ],
 "metadata": {
  "anaconda-cloud": {},
  "kernelspec": {
   "display_name": "Python 3",
   "language": "python",
   "name": "python3"
  },
  "language_info": {
   "codemirror_mode": {
    "name": "ipython",
    "version": 3
   },
   "file_extension": ".py",
   "mimetype": "text/x-python",
   "name": "python",
   "nbconvert_exporter": "python",
   "pygments_lexer": "ipython3",
   "version": "3.7.0"
  }
 },
 "nbformat": 4,
 "nbformat_minor": 1
}
