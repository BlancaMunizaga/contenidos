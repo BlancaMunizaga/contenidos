{
 "cells": [
  {
   "cell_type": "markdown",
   "metadata": {},
   "source": [
    "<p>\n",
    "<font size='5' face='Georgia, Arial'>IIC-2233 Apunte Programación Avanzada</font><br>\n",
    "<font size='1'>Basado en: &copy; 2015 Karim Pichara - Christian Pieringer. Todos los derechos reservados. Modificado el 2018-1.</font>\n",
    "</p>"
   ]
  },
  {
   "cell_type": "markdown",
   "metadata": {},
   "source": [
    "# Tabla de contenidos\n",
    "\n",
    "1. [¿Qué son los objetos?](#¿Qué-son-los-objetos?)\n",
    "2. [¿Qué es OOP?](#¿Qué-es-OOP?)\n",
    "3. [OOP en Python](#OOP-en-Python)"
   ]
  },
  {
   "cell_type": "markdown",
   "metadata": {},
   "source": [
    "## ¿Qué son los objetos?\n",
    "\n",
    "En el mundo real los objetos son elementos tangibles que \n",
    "se pueden manipular y sentir; representan\n",
    "algo que tiene significado para nosotros.\n",
    "\n",
    "En el área de desarrollo de software, un **objeto**\n",
    "es una colección de **datos** que además tiene **comportamientos**\n",
    "asociados. Por una parte, los datos **describen** a los objetos, mientras que los comportamientos **representan acciones** que ocurren en ellos."
   ]
  },
  {
   "cell_type": "markdown",
   "metadata": {},
   "source": [
    "### Ejemplo de clase Auto\n",
    "\n",
    "Pensemos, por ejemplo, en un objeto que represente a un auto. Los **datos** que nos interesan de un auto podrían incluir su marca, su modelo, su año, color, número de motor, kilometraje, cuántas mantenciones ha recibido, y en qué ubicación geográfica se encuentra. Respecto a las **acciones** que queremos realizar sobre el auto podemos pensar en _determinar cuánto falta para su próxima mantención_, _efectuar una nueva mantención_, _conducirlo durante una cierta cantidad de kilómetros_, _calcular su distancia a alguna dirección_, o _pintarlo de otro color_. Por supuesto, podemos pensar en más datos y acciones. \n",
    "\n",
    "Podemos pensar en distintos autos, que se diferenciarán porque tendran diferentes valores asociados a sus datos. Por ejemplo, algún auto podría pertenecer al año 2000, tener marca \"Kia\", y color blanco; otro auto podría pertenecer al año 2016, tener marca \"Suzuki\", color azul, y acumular 10000 kilómetros. Sin embargo, ambos siguen siendo _autos_. Diremos que ambos **objetos** pertenecen a una misma categoría o **clase** que llamaremos `Auto`. Así, podríamos decir que todos los objetos que pertenecen a la clase `Auto`, poseen los siguientes conjuntos de datos y comportamientos.\n",
    "\n",
    "Datos            | Comportamiento\n",
    "---------------- | ---------------------------\n",
    "Marca            | Calcular próximo mantención\n",
    "Modelo           | Realizar una nueva mantención\n",
    "Año              | Conducir durante _X_ kilómetros\n",
    "Color            | Calcular distancia a alguna dirección\n",
    "Motor            | Pintarlo de otro color\n",
    "Kilometraje      |\n",
    "Mantenciones     |\n",
    "Ubicación actual |\n",
    "\n",
    "\n",
    "## ¿Qué es OOP?\n",
    "\n",
    "La **Programación Orientada a Objetos** ú **OOP** (_Object Oriented Programming_) es un paradigma de programación (una manera de programar) en el cual los programas modelan las funcionalidades\n",
    "a través de la interacción entre **objetos** por\n",
    "medio de sus datos y sus comportamientos. \n",
    "\n",
    "En OOP los objetos son descritos de manera general mediante **clases**. Una clase describe los datos que caracterizan a un objeto; a estos datos los llamamos **atributos**. Una clase también describe los comportamientos de los objetos, y a estos comportamientos los llamamos **métodos**. Cada vez que creamos un objeto a partir de una clase, decimos que estamos _instanciando_ esa clase, por lo tanto **un objeto es una instancia de una clase**.\n",
    "\n",
    "![](img/OOP_auto.png)"
   ]
  },
  {
   "cell_type": "markdown",
   "metadata": {},
   "source": [
    "### Ejemplo de clase Carpeta\n",
    "\n",
    "Así como nosotros podemos definir clases personalizadas para estructurar nuestro código, los que programaron los computadores lo vienen haciendo desde hace mucho tiempo. Si miras tu *Escritorio/Desktop* o la carpeta del Syllabus del curso, te darás cuenta de que existen muchas carpetas de archivos distintas. En esencia son todas **instancias** u **objetos** de la misma **clase**, la clase carpeta. De esta forma no se tiene que repetir el código de una carpeta cada vez que se quiere crear una nueva carpeta, sino solo instanciarla.\n",
    "\n",
    "Atributos        | Métodos\n",
    "---------------- | ---------------------------\n",
    "Nombre            | Borrar\n",
    "Ícono           | Renombrar\n",
    "Tamaño              | Copiar\n",
    "Fecha de creación            | \n",
    "Lista de archivos            | \n",
    "\n",
    "![](img/OOP_carpetas.png)"
   ]
  },
  {
   "cell_type": "markdown",
   "metadata": {},
   "source": [
    "### Encapsulamiento\n",
    "\n",
    "Una característica que permite la OOP es el **encapsulamiento**. Existen atributos de los objetos que no\n",
    "necesitan ser observados ni accedidos por otros objetos con que se interactúa.\n",
    "\n",
    "Si pensamos en el ejemplo de nuestra clase `Auto`, atributos del auto como `motor`, y otros que pueden ser `disco_de_embrague`, o `palanca_de_cambios`, son naturalmente parte de `Auto`, pero son internos a la construcción y al funcionamiento de un objeto de clase `Auto`. Otros objetos de clase `Auto`, o de otras clases como `Conductor` no necesitan interactuar con ellos, o al menos no directamente. Por otro lado, atributos como `color` o `modelo` pueden ser interés para objetos de otras clases como `Persona`.\n",
    "\n",
    "El encapsulamiento nos ayudará a alcanzar un mejor nivel de abstracción en el modelamiento de nuestros programas al definir qué atributos de un objeto son de interés para otros objetos y cuáles atributos son de interés únicamente para el comportamiento interno del objeto y, por lo tanto, deberían permacener ocultos o _encapsulados_ dentro del objeto. Veremos que un correcto uso del encapsulamiento de atributos lleva a un código más limpio.\n",
    "\n",
    "\n",
    "### Interfaz\n",
    "\n",
    "En programación, una interfaz es una _fachada_ para proteger la implementación de una clase e interactuar con otros objetos. La interfaz define el conjunto de atributos y métodos de un objeto que son _expuestos_ u ofrecidos por la clase para poder interactuar con otros objetos.\n",
    "\n",
    "En nuestro ejemplo de la clase `Auto`, una interfaz que puede ser ofrecida a un objeto de clase `Conductor` puede incluir atributos como `kilometraje` y `velocidad`, y métodos como _conducir X kilómetros_, _acelerar_, ó _encender el motor_. Por otro lado si consideramos la interacción con un objeto de clase `Mecánico`, podríamos pensar en una interfaz con atributos como `nivel_de_aceite`, y métodos como _abrir capot_, _cambiar neumático_ ó _reemplazar discos_. \n",
    "\n",
    "El nivel de detalle de la interfaz se denomina abstracción. En nuestro ejemplo, todos los atributos `kilometraje`, `velocidad`, `nivel_de_aceite` y los métodos _acelerar_, _encender el motor_, _abrir capot_ siguen siendo parte de la clase `Auto`. Sin embargo, hemos definido una interfaz con cierto nivel de abstracción para interactuar con la clase `Conductor`, ocultando o abstrayendo al Conductor de detalles internos del Auto. Por otro lado, para interactuar con la clase `Mecánico` ofrecemos, además de lo que es accesible al `Conductor`, una interfaz más concreta que expone un mayor conjunto de atributos y métodos de la clase `Auto`."
   ]
  },
  {
   "cell_type": "markdown",
   "metadata": {},
   "source": [
    "## OOP en Python\n",
    "\n",
    "Python es un lenguaje _multiparadigma_ lo que significa que permite programar mediantes distintos paradigmas de programación. Entre ellos se encuentra la programación imperativa, la programación funcional, y también OOP. A continuación revisaremos algunos ejemplos que ilustran cómo Python permite programar utilizando OOP. Es importante tener en cuenta que algunas de las características que veremos son más bien propias del lenguaje Python que de OOP, y por lo tanto no existen necesariamente en otros lenguajes que siguen OOP. Cuando sea el caso lo indicaremos.\n",
    "\n",
    "### Forma básica para crear una clase\n",
    "\n",
    "En este ejemplo, definimos una clase de nombre `Departamento`, la cual representa un departamento en venta con atributos como _superficie_ (en m2), _valor_ (en UF), _cantidad de dormitorios_, _cantidad de baños_, y un valor _boolean_ que nos indica si el departamento ha sido vendido o no. También definimos un método _vender_ que podría ser de interés para un vendedor."
   ]
  },
  {
   "cell_type": "code",
   "execution_count": 1,
   "metadata": {
    "collapsed": true
   },
   "outputs": [],
   "source": [
    "class Departamento:  # CamelCase notation (PEP8)\n",
    "    '''Clase que representa un departamento en venta\n",
    "       valor esta en UF.\n",
    "    '''\n",
    "    def __init__(self, _id, mts2, valor, num_dorms, num_banos):\n",
    "        self._id = _id\n",
    "        self.mts2 = mts2\n",
    "        self.valor = valor\n",
    "        self.num_dorms = num_dorms\n",
    "        self.num_banos = num_banos\n",
    "        self.vendido = False\n",
    "\n",
    "    def vender(self):\n",
    "        if not self.vendido:\n",
    "            self.vendido = True\n",
    "        else:\n",
    "            print(\"Departamento {} ya se vendió\".format(self._id))"
   ]
  },
  {
   "cell_type": "markdown",
   "metadata": {},
   "source": []
  },
  {
   "cell_type": "markdown",
   "metadata": {},
   "source": [
    "El siguiente código utiliza la clase que acabamos de definir. Primero creamos un nuevo objeto `depto` de la clase `Departamento` y asignamos valores a algunos de sus atributos, de acuerdo al inicializador (`__init__`) de la clase. Sobre este objeto, accedemos a su atributo `vendido`, y utilizamos su método `vender`."
   ]
  },
  {
   "cell_type": "code",
   "execution_count": 2,
   "metadata": {},
   "outputs": [
    {
     "name": "stdout",
     "output_type": "stream",
     "text": [
      "El departamento está vendido? False\n",
      "El departamento está vendido? True\n",
      "Departamento 1 ya se vendió\n"
     ]
    }
   ],
   "source": [
    "depto = Departamento(_id=1, mts2=100, valor=5000, num_dorms=3, num_banos=2)\n",
    "print(\"El departamento está vendido? {}\".format(depto.vendido))\n",
    "depto.vender()\n",
    "print(\"El departamento está vendido? {}\".format(depto.vendido))\n",
    "depto.vender()"
   ]
  },
  {
   "cell_type": "markdown",
   "metadata": {},
   "source": [
    "### Ver una descripción de la clase\n",
    "\n",
    "[help](https://docs.python.org/3/library/functions.html#help) es una función construida dentro del intérprete de Python (_built-in_) que, aplicada al nombre de una clase, entrega una descripción de la clase a modo de documentación. Permite saber qué métodos han sido definidos dentro de la clase y utiliza los comentarios que se hayan escrito dentro de la clase."
   ]
  },
  {
   "cell_type": "code",
   "execution_count": 3,
   "metadata": {
    "scrolled": false
   },
   "outputs": [
    {
     "name": "stdout",
     "output_type": "stream",
     "text": [
      "Help on class Departamento in module __main__:\n",
      "\n",
      "class Departamento(builtins.object)\n",
      " |  Clase que representa un departamento en venta\n",
      " |  valor esta en UF.\n",
      " |  \n",
      " |  Methods defined here:\n",
      " |  \n",
      " |  __init__(self, _id, mts2, valor, num_dorms, num_banos)\n",
      " |      Initialize self.  See help(type(self)) for accurate signature.\n",
      " |  \n",
      " |  vender(self)\n",
      " |  \n",
      " |  ----------------------------------------------------------------------\n",
      " |  Data descriptors defined here:\n",
      " |  \n",
      " |  __dict__\n",
      " |      dictionary for instance variables (if defined)\n",
      " |  \n",
      " |  __weakref__\n",
      " |      list of weak references to the object (if defined)\n",
      "\n"
     ]
    }
   ],
   "source": [
    "help(Departamento)"
   ]
  },
  {
   "cell_type": "markdown",
   "metadata": {},
   "source": [
    "### Encapsulamiento en Python\n",
    "\n",
    "En lenguajes tradicionales que usan OOP, como por ejemplo Java y C#, es posible definir atributos o métodos que pueden ser accedidos desde fuera del objeto (_públicos_), y otros que sólo puede ser utilizados internamente (_privados_). En Python esta diferencia no existe, y **todos los atributos y métodos de un objeto son públicos**.\n",
    "\n",
    "Sin embargo, existe una convención que permite _sugerir_ que un método o atributos de uso únicamente interno. Esto se hace agregando un caracter _underscore_ al inicio del atributo o método, como en el siguiente ejemplo:"
   ]
  },
  {
   "cell_type": "code",
   "execution_count": 4,
   "metadata": {
    "collapsed": true
   },
   "outputs": [],
   "source": [
    "class Televisor:\n",
    "    ''' Clase que modela un televisor.\n",
    "    '''\n",
    "    \n",
    "    def __init__(self, pulgadas, marca):\n",
    "        self.pulgadas = pulgadas\n",
    "        self.marca = marca\n",
    "        self.encendido = False\n",
    "        self.canal_actual = 0\n",
    "        self._clave = \"tv123\"\n",
    "        \n",
    "    def encender(self):\n",
    "        self.encendido = True\n",
    "        \n",
    "    def apagar(self):\n",
    "        self.encendido = False\n",
    "        \n",
    "    def cambiar_canal(self, nuevo_canal):\n",
    "        self._codificar_imagen()\n",
    "        self.canal_actual = nuevo_canal\n",
    "        \n",
    "    def _decodificar_imagen(self):\n",
    "        print(\"Estoy convirtiendo una señal eléctrica en la imagen que estás viendo.\")\n"
   ]
  },
  {
   "cell_type": "markdown",
   "metadata": {},
   "source": [
    "En este ejemplo, podemos notar que la clase `Televisor` tiene los métodos `encender`, `apagar`, `cambiar_canal` y `_decodificar_imagen`. Digamos que queremos crear objetos de la classe `Televisor`. "
   ]
  },
  {
   "cell_type": "code",
   "execution_count": 5,
   "metadata": {
    "collapsed": true
   },
   "outputs": [],
   "source": [
    "televisor1 = Televisor(17, 'zony')\n",
    "televisor2 = Televisor(21, 'zamsung')"
   ]
  },
  {
   "cell_type": "markdown",
   "metadata": {},
   "source": [
    "Estos televisores que hemos creado deberían poder ser encendidos y apagados. También deberíamos poder cambiar el canal.\n",
    "Pero no necesitamos decirle al televisor que decodifique la imagen. Ésta es una operación que se realiza automáticamente, cada vez que se cambia el canal. Como el método `_decodificar_imagen` empieza con _underscore_, **por convención** éste no debe ser llamado fuera de la clase. Lo mismo ocurre con el atributo `_clave`, que es un parámetro interno del televisor. Sin embargo, como todo esto sólo una convención, **aún podemos acceder a ellos directamente**."
   ]
  },
  {
   "cell_type": "code",
   "execution_count": 6,
   "metadata": {},
   "outputs": [
    {
     "name": "stdout",
     "output_type": "stream",
     "text": [
      "Estoy convirtiendo una señal eléctrica en la imagen que estás viendo.\n",
      "tv123\n"
     ]
    }
   ],
   "source": [
    "televisor1._decodificar_imagen()\n",
    "print(televisor1._clave)"
   ]
  },
  {
   "cell_type": "markdown",
   "metadata": {},
   "source": [
    "Hasta aquí pareciera que esta convención de empezar algunos nombres de atributos y métodos con _underscore_ no hace realmente ninguna diferencia para el intérprete de Python. Si queremos (casi) realmente tener atributos y métodos que no puedan ser llamados directamente, podemos iniciar con _doble underscore_ como en el siguiente ejemplo."
   ]
  },
  {
   "cell_type": "code",
   "execution_count": 7,
   "metadata": {
    "collapsed": true
   },
   "outputs": [],
   "source": [
    "class Televisor:\n",
    "    ''' Clase que modela un televisor.\n",
    "    '''\n",
    "    \n",
    "    def __init__(self, pulgadas, marca):\n",
    "        self.pulgadas = pulgadas\n",
    "        self.marca = marca\n",
    "        self.encendido = False\n",
    "        self.canal_actual = 0\n",
    "        self._clave = \"tv123\"\n",
    "        self.__clavesecreta = \"tv456\"\n",
    "        \n",
    "    def encender(self):\n",
    "        self.encendido = True\n",
    "        \n",
    "    def apagar(self):\n",
    "        self.encendido = False\n",
    "        \n",
    "    def cambiar_canal(self, nuevo_canal):\n",
    "        self._codificar_imagen()\n",
    "        self.canal_actual = nuevo_canal\n",
    "        \n",
    "    def _decodificar_imagen(self):\n",
    "        print(\"Estoy convirtiendo una señal eléctrica en la imagen que estás viendo.\")\n",
    "        \n",
    "    def __mostrar_canal_prohibido(self):\n",
    "        print(\"Esto permite ver el canal del curling, pero usted no debe saberlo.\")\n",
    "\n",
    "televisor1 = Televisor(17, 'zony')\n",
    "televisor2 = Televisor(21, 'zamsung')"
   ]
  },
  {
   "cell_type": "markdown",
   "metadata": {},
   "source": [
    "Y entonces si queremos acceder a estos elementos:"
   ]
  },
  {
   "cell_type": "code",
   "execution_count": 8,
   "metadata": {},
   "outputs": [
    {
     "ename": "AttributeError",
     "evalue": "'Televisor' object has no attribute '__clavesecreta'",
     "output_type": "error",
     "traceback": [
      "\u001b[0;31m---------------------------------------------------------------------------\u001b[0m",
      "\u001b[0;31mAttributeError\u001b[0m                            Traceback (most recent call last)",
      "\u001b[0;32m<ipython-input-8-056bf17770dc>\u001b[0m in \u001b[0;36m<module>\u001b[0;34m()\u001b[0m\n\u001b[0;32m----> 1\u001b[0;31m \u001b[0mprint\u001b[0m\u001b[0;34m(\u001b[0m\u001b[0mtelevisor1\u001b[0m\u001b[0;34m.\u001b[0m\u001b[0m__clavesecreta\u001b[0m\u001b[0;34m)\u001b[0m\u001b[0;34m\u001b[0m\u001b[0m\n\u001b[0m",
      "\u001b[0;31mAttributeError\u001b[0m: 'Televisor' object has no attribute '__clavesecreta'"
     ]
    }
   ],
   "source": [
    "print(televisor1.__clavesecreta)"
   ]
  },
  {
   "cell_type": "code",
   "execution_count": 9,
   "metadata": {},
   "outputs": [
    {
     "ename": "AttributeError",
     "evalue": "'Televisor' object has no attribute '__mostrar_canal_prohibido'",
     "output_type": "error",
     "traceback": [
      "\u001b[0;31m---------------------------------------------------------------------------\u001b[0m",
      "\u001b[0;31mAttributeError\u001b[0m                            Traceback (most recent call last)",
      "\u001b[0;32m<ipython-input-9-4efd90d8dd82>\u001b[0m in \u001b[0;36m<module>\u001b[0;34m()\u001b[0m\n\u001b[0;32m----> 1\u001b[0;31m \u001b[0mtelevisor1\u001b[0m\u001b[0;34m.\u001b[0m\u001b[0m__mostrar_canal_prohibido\u001b[0m\u001b[0;34m(\u001b[0m\u001b[0;34m)\u001b[0m\u001b[0;34m\u001b[0m\u001b[0m\n\u001b[0m",
      "\u001b[0;31mAttributeError\u001b[0m: 'Televisor' object has no attribute '__mostrar_canal_prohibido'"
     ]
    }
   ],
   "source": [
    "televisor1.__mostrar_canal_prohibido()"
   ]
  },
  {
   "cell_type": "markdown",
   "metadata": {},
   "source": [
    "Podemos ver que, a pesar que los atributos existen, Python pareciera ser incapaz de encontrarlos y nos arroja un error. La verdad es que todo esto es un truco de la implementación de Python para proveer algo similar a los atributos y métodos privados. Cuando un atributo o método empieza con _doble underscore_, Python reemplaza internamente sus nombres por `_NombreDeLaClase__atributo_o_metodo_secreto`, y por lo tanto podemos ser más astutos y escribir:"
   ]
  },
  {
   "cell_type": "code",
   "execution_count": 10,
   "metadata": {},
   "outputs": [
    {
     "name": "stdout",
     "output_type": "stream",
     "text": [
      "Esto permite ver el canal del curling, pero usted no debe saberlo.\n",
      "tv456\n"
     ]
    }
   ],
   "source": [
    "televisor1._Televisor__mostrar_canal_prohibido()\n",
    "print(televisor1._Televisor__clavesecreta)"
   ]
  },
  {
   "cell_type": "markdown",
   "metadata": {},
   "source": [
    "Este truco se conoce como _name mangling_. No ocurre, sin embargo, cuando el nombre del método termina también con _doble underscore_, por lo cual sí podemos llamar directamente métodos como `televisor1.__str__()`. Estas características son, en cualquier caso, exclusivas de Python y su objetivo es disminuir la posibilidad de errores por parte del programador al proveer algo que simula la existencia de atributos y métodos privados en un lenguaje que no los tiene."
   ]
  },
  {
   "cell_type": "markdown",
   "metadata": {},
   "source": [
    "## Clases sin métodos: _Named Tuples_\n",
    "\n",
    "Las [*Named Tuples*](https://docs.python.org/3/library/collections.html#collections.namedtuple) son estructuras que permiten definir campos para cada una de las posiciones en que han sido ingresados los datos. Son útiles como una forma de agrupar datos. Generalmente se utilizan como alternativa a las clases cuando los datos no tienen un comportamiento asociado. \n",
    "\n",
    "Este tipo de tupla requiere definir un objeto con los nombres de los atributos que tendrá la tupla. Para poder hacer uso de esta estructura se requiere importar el modulo `namedtuple` desde la librería `collections`. La inicialización básica de una `namedtuple` requiere un _string_ con el nombre para el tipo de tupla y el nombre de los campos que tendrá, los que se entregan en una lista de _strings_ como en el siguiente ejemplo:"
   ]
  },
  {
   "cell_type": "code",
   "execution_count": 11,
   "metadata": {},
   "outputs": [
    {
     "name": "stdout",
     "output_type": "stream",
     "text": [
      "13427974-5\n",
      "23066987-2\n",
      "<class '__main__.Register_type'>\n"
     ]
    }
   ],
   "source": [
    "from collections import namedtuple\n",
    "\n",
    "# Asignamos un nombre a la tupla (Register_type), y una lista con los nombres de los atributos que tendrá\n",
    "Register = namedtuple('Register_type', ['RUT', 'name', 'age'])\n",
    "\n",
    "# instanciación e iniciación de la tupla, con un valor cada atributo nombrado en la lista\n",
    "c1 = Register('13427974-5', 'Christian', 20) \n",
    "c2 = Register('23066987-2', 'Dante', 5)\n",
    "\n",
    "print(c1.RUT)\n",
    "print(c2.RUT)\n",
    "print(type(c2))"
   ]
  },
  {
   "cell_type": "markdown",
   "metadata": {},
   "source": [
    "Al preguntar por el tipo de la variable, nos indica el nombre que le asignamos al crear la `namedtuple`, de la misma manera que ocurre cuando utilizamos una clase."
   ]
  },
  {
   "cell_type": "code",
   "execution_count": 12,
   "metadata": {},
   "outputs": [
    {
     "name": "stdout",
     "output_type": "stream",
     "text": [
      "<class '__main__.Register_type'>\n",
      "<class '__main__.Televisor'>\n"
     ]
    }
   ],
   "source": [
    "print(type(c2))\n",
    "print(type(televisor1))"
   ]
  },
  {
   "cell_type": "markdown",
   "metadata": {},
   "source": [
    "Se puede usar también las *Named Tuples* para entregar la salida de una función"
   ]
  },
  {
   "cell_type": "code",
   "execution_count": 13,
   "metadata": {},
   "outputs": [
    {
     "name": "stdout",
     "output_type": "stream",
     "text": [
      "200.0\n",
      "5.0\n",
      "<class '__main__.Geometrical'>\n"
     ]
    }
   ],
   "source": [
    "def calcular_geometria(a, b):\n",
    "    #También es posible entregar los nombres de los datos como una secuencia de strings separados por espacios o comas\n",
    "    Features = namedtuple('Geometrical', 'area perimeter mpa mpb')\n",
    "    area = a * b\n",
    "    perimeter = (2 * a) + (2 * b)\n",
    "    mpa = a / 2\n",
    "    mpb = b / 2\n",
    "    return Features(area, perimeter, mpa, mpb)\n",
    "\n",
    "data = calcular_geometria(20.0, 10.0)\n",
    "print(data.area)\n",
    "print(data.mpb)\n",
    "print(type(data))"
   ]
  },
  {
   "cell_type": "markdown",
   "metadata": {},
   "source": [
    "### El método `__call__`\n",
    "\n",
    "El método `__call__` se usa para crear una función que será ejecutada cada vez que se \"llame\" (invoque) a una **instancia** de la clase con paréntesis, como al escribir `instancia()`. Observe el siguiente ejemplo:"
   ]
  },
  {
   "cell_type": "code",
   "execution_count": 14,
   "metadata": {},
   "outputs": [
    {
     "name": "stdout",
     "output_type": "stream",
     "text": [
      "Cucho\n",
      "Animal llamado: Boby\n",
      "Agregando comida a Cucho\n",
      "Agregando comida a Cucho\n",
      "['pescado', 'pollo']\n",
      "['pollo']\n"
     ]
    }
   ],
   "source": [
    "# Basado en: https://www.daniweb.com/programming/software-development/threads/39004/what-does-call-method-do\n",
    "\n",
    "class Animal:\n",
    "    def __init__(self, nombre, patas):\n",
    "        self.nombre = nombre\n",
    "        self.patas = patas\n",
    "        self.estomago = []        \n",
    "        \n",
    "    def __call__(self,comida):\n",
    "        print(\"Agregando comida a {}\".format(self.nombre))\n",
    "        self.estomago.append(comida)\n",
    "    \n",
    "    def digerir(self):\n",
    "        if len(self.estomago) > 0:\n",
    "            return self.estomago.pop(0)\n",
    "        \n",
    "    def __str__(self):        \n",
    "        return ('Animal llamado: {}'.format(self.nombre))\n",
    "        \n",
    "gato = Animal('Cucho', 4)  # Creamos un gato\n",
    "perro = Animal('Boby', 4)  # Podemos crear muchos animales\n",
    "print(gato.nombre)\n",
    "print(perro)           # aquí funciona el método __str__\n",
    "gato('pescado')        # aquí le damos pescado al gato usando el método __call__\n",
    "gato.__call__('pollo') # esto es equivalente a gato('pollo')\n",
    "print(gato.estomago) #mostramos el contenido de su estómago\n",
    "gato.digerir()       #digiere lo que lleva más tiempo en su estómago\n",
    "print(gato.estomago)"
   ]
  },
  {
   "cell_type": "markdown",
   "metadata": {},
   "source": [
    "Aquí podemos ver que al ejecutar `gato('pescado')`, estamos llamando indirectamente al método `__call__`, que recibe un argumento. Esto es equivalente a haber ejecutado `gato.__call__('pescado')`. \n",
    "\n",
    "`__call__` es otra función de Python que se llama bajo ciertas condiciones, de manera similar al método `__str__` que se llama cada vez que se solicita una conversión interna a *string*, como al ejecutar `print(perro)`."
   ]
  }
 ],
 "metadata": {
  "kernelspec": {
   "display_name": "Python 3",
   "language": "python",
   "name": "python3"
  },
  "language_info": {
   "codemirror_mode": {
    "name": "ipython",
    "version": 3
   },
   "file_extension": ".py",
   "mimetype": "text/x-python",
   "name": "python",
   "nbconvert_exporter": "python",
   "pygments_lexer": "ipython3",
   "version": "3.6.4"
  }
 },
 "nbformat": 4,
 "nbformat_minor": 1
}
